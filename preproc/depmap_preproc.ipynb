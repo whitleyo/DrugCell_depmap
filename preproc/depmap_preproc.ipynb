{
 "cells": [
  {
   "cell_type": "markdown",
   "id": "bc169c34-030a-43dc-89b3-e8900f52cac0",
   "metadata": {},
   "source": [
    "# Explore and Preprocess Depmap Data for Use in Model Training"
   ]
  },
  {
   "cell_type": "code",
   "execution_count": 1,
   "id": "1be29589-3bbf-4017-b17e-badc9b8a09c0",
   "metadata": {},
   "outputs": [],
   "source": [
    "import os\n",
    "import re\n",
    "import gc\n",
    "\n",
    "import numpy as np\n",
    "import pandas as pd\n",
    "import seaborn as sns\n",
    "from sklearn.impute import KNNImputer\n",
    "from sklearn.model_selection import train_test_split"
   ]
  },
  {
   "cell_type": "code",
   "execution_count": 2,
   "id": "c8a82ff1-e8e4-4201-834b-c1d154a3657b",
   "metadata": {},
   "outputs": [
    {
     "data": {
      "text/plain": [
       "['OmicsSomaticMutationsMatrixDamaging.csv',\n",
       " 'OmicsExpressionProteinCodingGenesTPMLogp1.csv',\n",
       " 'CRISPRGeneDependency.csv',\n",
       " 'CRISPRGeneEffect.csv',\n",
       " 'OmicsCNGene.csv',\n",
       " 'README.txt']"
      ]
     },
     "execution_count": 2,
     "metadata": {},
     "output_type": "execute_result"
    }
   ],
   "source": [
    "top_dir = '../'\n",
    "inp_dir = os.path.join(top_dir, 'data/raw/depmap')\n",
    "os.listdir(inp_dir)"
   ]
  },
  {
   "cell_type": "code",
   "execution_count": 3,
   "id": "09561a4f-db28-48e9-bb96-d49eee1a925a",
   "metadata": {},
   "outputs": [],
   "source": [
    "output_dir = os.path.join(top_dir, 'data/preproc/depmap_all_dtypes_processed')\n",
    "if not os.path.exists(output_dir):\n",
    "    os.mkdir(output_dir)"
   ]
  },
  {
   "cell_type": "markdown",
   "id": "3ad806ac-ae36-4e88-aa3c-aa2aa80e41f0",
   "metadata": {},
   "source": [
    "## RNA Expression Data"
   ]
  },
  {
   "cell_type": "code",
   "execution_count": 4,
   "id": "9d9336d2-ae9e-43bd-860a-c773cef9e31f",
   "metadata": {},
   "outputs": [],
   "source": [
    "RNAExpression_file = os.path.join(inp_dir, 'OmicsExpressionProteinCodingGenesTPMLogp1.csv')\n",
    "RNAExpression = pd.read_csv(RNAExpression_file, index_col=0)"
   ]
  },
  {
   "cell_type": "code",
   "execution_count": 5,
   "id": "0e58f62b-e345-492e-b158-427272db527b",
   "metadata": {},
   "outputs": [
    {
     "data": {
      "text/html": [
       "<div>\n",
       "<style scoped>\n",
       "    .dataframe tbody tr th:only-of-type {\n",
       "        vertical-align: middle;\n",
       "    }\n",
       "\n",
       "    .dataframe tbody tr th {\n",
       "        vertical-align: top;\n",
       "    }\n",
       "\n",
       "    .dataframe thead th {\n",
       "        text-align: right;\n",
       "    }\n",
       "</style>\n",
       "<table border=\"1\" class=\"dataframe\">\n",
       "  <thead>\n",
       "    <tr style=\"text-align: right;\">\n",
       "      <th></th>\n",
       "      <th>TSPAN6 (7105)</th>\n",
       "      <th>TNMD (64102)</th>\n",
       "      <th>DPM1 (8813)</th>\n",
       "      <th>SCYL3 (57147)</th>\n",
       "      <th>C1orf112 (55732)</th>\n",
       "      <th>FGR (2268)</th>\n",
       "      <th>CFH (3075)</th>\n",
       "      <th>FUCA2 (2519)</th>\n",
       "      <th>GCLC (2729)</th>\n",
       "      <th>NFYA (4800)</th>\n",
       "      <th>...</th>\n",
       "      <th>H3C2 (8358)</th>\n",
       "      <th>H3C3 (8352)</th>\n",
       "      <th>AC098582.1 (8916)</th>\n",
       "      <th>DUS4L-BCAP29 (115253422)</th>\n",
       "      <th>C8orf44-SGK3 (100533105)</th>\n",
       "      <th>ELOA3B (728929)</th>\n",
       "      <th>NPBWR1 (2831)</th>\n",
       "      <th>ELOA3D (100506888)</th>\n",
       "      <th>ELOA3 (162699)</th>\n",
       "      <th>CDR1 (1038)</th>\n",
       "    </tr>\n",
       "  </thead>\n",
       "  <tbody>\n",
       "    <tr>\n",
       "      <th>ACH-001113</th>\n",
       "      <td>4.331992</td>\n",
       "      <td>0.000000</td>\n",
       "      <td>7.364660</td>\n",
       "      <td>2.792855</td>\n",
       "      <td>4.471187</td>\n",
       "      <td>0.028569</td>\n",
       "      <td>1.226509</td>\n",
       "      <td>3.044394</td>\n",
       "      <td>6.500005</td>\n",
       "      <td>4.739848</td>\n",
       "      <td>...</td>\n",
       "      <td>2.689299</td>\n",
       "      <td>0.189034</td>\n",
       "      <td>0.201634</td>\n",
       "      <td>2.130931</td>\n",
       "      <td>0.555816</td>\n",
       "      <td>0.0</td>\n",
       "      <td>0.275007</td>\n",
       "      <td>0.0</td>\n",
       "      <td>0.0</td>\n",
       "      <td>0.000000</td>\n",
       "    </tr>\n",
       "    <tr>\n",
       "      <th>ACH-001289</th>\n",
       "      <td>4.567424</td>\n",
       "      <td>0.584963</td>\n",
       "      <td>7.106641</td>\n",
       "      <td>2.543496</td>\n",
       "      <td>3.504620</td>\n",
       "      <td>0.000000</td>\n",
       "      <td>0.189034</td>\n",
       "      <td>3.813525</td>\n",
       "      <td>4.221877</td>\n",
       "      <td>3.481557</td>\n",
       "      <td>...</td>\n",
       "      <td>1.286881</td>\n",
       "      <td>1.049631</td>\n",
       "      <td>0.321928</td>\n",
       "      <td>1.464668</td>\n",
       "      <td>0.632268</td>\n",
       "      <td>0.0</td>\n",
       "      <td>0.014355</td>\n",
       "      <td>0.0</td>\n",
       "      <td>0.0</td>\n",
       "      <td>0.000000</td>\n",
       "    </tr>\n",
       "    <tr>\n",
       "      <th>ACH-001339</th>\n",
       "      <td>3.150560</td>\n",
       "      <td>0.000000</td>\n",
       "      <td>7.379118</td>\n",
       "      <td>2.333424</td>\n",
       "      <td>4.228049</td>\n",
       "      <td>0.056584</td>\n",
       "      <td>1.310340</td>\n",
       "      <td>6.687201</td>\n",
       "      <td>3.682573</td>\n",
       "      <td>3.273516</td>\n",
       "      <td>...</td>\n",
       "      <td>0.594549</td>\n",
       "      <td>1.097611</td>\n",
       "      <td>0.831877</td>\n",
       "      <td>2.946731</td>\n",
       "      <td>0.475085</td>\n",
       "      <td>0.0</td>\n",
       "      <td>0.084064</td>\n",
       "      <td>0.0</td>\n",
       "      <td>0.0</td>\n",
       "      <td>0.042644</td>\n",
       "    </tr>\n",
       "    <tr>\n",
       "      <th>ACH-001538</th>\n",
       "      <td>5.085340</td>\n",
       "      <td>0.000000</td>\n",
       "      <td>7.154211</td>\n",
       "      <td>2.545968</td>\n",
       "      <td>3.084064</td>\n",
       "      <td>0.000000</td>\n",
       "      <td>5.868390</td>\n",
       "      <td>6.165309</td>\n",
       "      <td>4.489928</td>\n",
       "      <td>3.956986</td>\n",
       "      <td>...</td>\n",
       "      <td>0.214125</td>\n",
       "      <td>0.632268</td>\n",
       "      <td>0.298658</td>\n",
       "      <td>1.641546</td>\n",
       "      <td>0.443607</td>\n",
       "      <td>0.0</td>\n",
       "      <td>0.028569</td>\n",
       "      <td>0.0</td>\n",
       "      <td>0.0</td>\n",
       "      <td>0.000000</td>\n",
       "    </tr>\n",
       "    <tr>\n",
       "      <th>ACH-000242</th>\n",
       "      <td>6.729417</td>\n",
       "      <td>0.000000</td>\n",
       "      <td>6.537917</td>\n",
       "      <td>2.456806</td>\n",
       "      <td>3.867896</td>\n",
       "      <td>0.799087</td>\n",
       "      <td>7.208478</td>\n",
       "      <td>5.570159</td>\n",
       "      <td>7.127117</td>\n",
       "      <td>4.568032</td>\n",
       "      <td>...</td>\n",
       "      <td>1.117695</td>\n",
       "      <td>2.358959</td>\n",
       "      <td>0.084064</td>\n",
       "      <td>1.910733</td>\n",
       "      <td>0.000000</td>\n",
       "      <td>0.0</td>\n",
       "      <td>0.464668</td>\n",
       "      <td>0.0</td>\n",
       "      <td>0.0</td>\n",
       "      <td>0.000000</td>\n",
       "    </tr>\n",
       "  </tbody>\n",
       "</table>\n",
       "<p>5 rows × 19193 columns</p>\n",
       "</div>"
      ],
      "text/plain": [
       "            TSPAN6 (7105)  TNMD (64102)  DPM1 (8813)  SCYL3 (57147)  \\\n",
       "ACH-001113       4.331992      0.000000     7.364660       2.792855   \n",
       "ACH-001289       4.567424      0.584963     7.106641       2.543496   \n",
       "ACH-001339       3.150560      0.000000     7.379118       2.333424   \n",
       "ACH-001538       5.085340      0.000000     7.154211       2.545968   \n",
       "ACH-000242       6.729417      0.000000     6.537917       2.456806   \n",
       "\n",
       "            C1orf112 (55732)  FGR (2268)  CFH (3075)  FUCA2 (2519)  \\\n",
       "ACH-001113          4.471187    0.028569    1.226509      3.044394   \n",
       "ACH-001289          3.504620    0.000000    0.189034      3.813525   \n",
       "ACH-001339          4.228049    0.056584    1.310340      6.687201   \n",
       "ACH-001538          3.084064    0.000000    5.868390      6.165309   \n",
       "ACH-000242          3.867896    0.799087    7.208478      5.570159   \n",
       "\n",
       "            GCLC (2729)  NFYA (4800)  ...  H3C2 (8358)  H3C3 (8352)  \\\n",
       "ACH-001113     6.500005     4.739848  ...     2.689299     0.189034   \n",
       "ACH-001289     4.221877     3.481557  ...     1.286881     1.049631   \n",
       "ACH-001339     3.682573     3.273516  ...     0.594549     1.097611   \n",
       "ACH-001538     4.489928     3.956986  ...     0.214125     0.632268   \n",
       "ACH-000242     7.127117     4.568032  ...     1.117695     2.358959   \n",
       "\n",
       "            AC098582.1 (8916)  DUS4L-BCAP29 (115253422)  \\\n",
       "ACH-001113           0.201634                  2.130931   \n",
       "ACH-001289           0.321928                  1.464668   \n",
       "ACH-001339           0.831877                  2.946731   \n",
       "ACH-001538           0.298658                  1.641546   \n",
       "ACH-000242           0.084064                  1.910733   \n",
       "\n",
       "            C8orf44-SGK3 (100533105)  ELOA3B (728929)  NPBWR1 (2831)  \\\n",
       "ACH-001113                  0.555816              0.0       0.275007   \n",
       "ACH-001289                  0.632268              0.0       0.014355   \n",
       "ACH-001339                  0.475085              0.0       0.084064   \n",
       "ACH-001538                  0.443607              0.0       0.028569   \n",
       "ACH-000242                  0.000000              0.0       0.464668   \n",
       "\n",
       "            ELOA3D (100506888)  ELOA3 (162699)  CDR1 (1038)  \n",
       "ACH-001113                 0.0             0.0     0.000000  \n",
       "ACH-001289                 0.0             0.0     0.000000  \n",
       "ACH-001339                 0.0             0.0     0.042644  \n",
       "ACH-001538                 0.0             0.0     0.000000  \n",
       "ACH-000242                 0.0             0.0     0.000000  \n",
       "\n",
       "[5 rows x 19193 columns]"
      ]
     },
     "execution_count": 5,
     "metadata": {},
     "output_type": "execute_result"
    }
   ],
   "source": [
    "RNAExpression.head()"
   ]
  },
  {
   "cell_type": "code",
   "execution_count": 6,
   "id": "1d753fb0-4dee-466b-a4c7-c93c4a46f98e",
   "metadata": {},
   "outputs": [],
   "source": [
    "# rename columns\n",
    "RNAExpression_new_columns = [re.sub(' \\([A-z0-9]+\\)', '', x) for x in  RNAExpression.columns.values.astype('str')]\n",
    "assert sum(pd.Series(RNAExpression_new_columns).duplicated().values) == 0\n",
    "RNAExpression.columns = RNAExpression_new_columns"
   ]
  },
  {
   "cell_type": "code",
   "execution_count": 7,
   "id": "b3ac44f0-4cf2-48f8-9bdc-218f7dd54ef2",
   "metadata": {},
   "outputs": [
    {
     "data": {
      "text/plain": [
       "Index(['TSPAN6', 'TNMD', 'DPM1', 'SCYL3', 'C1orf112', 'FGR', 'CFH', 'FUCA2',\n",
       "       'GCLC', 'NFYA',\n",
       "       ...\n",
       "       'H3C2', 'H3C3', 'AC098582.1', 'DUS4L-BCAP29', 'C8orf44-SGK3', 'ELOA3B',\n",
       "       'NPBWR1', 'ELOA3D', 'ELOA3', 'CDR1'],\n",
       "      dtype='object', length=19193)"
      ]
     },
     "execution_count": 7,
     "metadata": {},
     "output_type": "execute_result"
    }
   ],
   "source": [
    "RNAExpression.columns"
   ]
  },
  {
   "cell_type": "code",
   "execution_count": 8,
   "id": "8fb25c55-bd56-474e-9a45-3526f560598b",
   "metadata": {},
   "outputs": [
    {
     "data": {
      "text/plain": [
       "(1479, 19193)"
      ]
     },
     "execution_count": 8,
     "metadata": {},
     "output_type": "execute_result"
    }
   ],
   "source": [
    "RNAExpression.shape"
   ]
  },
  {
   "cell_type": "code",
   "execution_count": 9,
   "id": "8879809c-fb39-4dc4-a4bc-347dd5481590",
   "metadata": {},
   "outputs": [
    {
     "data": {
      "text/plain": [
       "False"
      ]
     },
     "execution_count": 9,
     "metadata": {},
     "output_type": "execute_result"
    }
   ],
   "source": [
    "np.any(RNAExpression.values.sum(axis=0) == 0)"
   ]
  },
  {
   "cell_type": "code",
   "execution_count": 10,
   "id": "a1861600-6f75-4de4-bc06-5c3100d6bd59",
   "metadata": {},
   "outputs": [
    {
     "data": {
      "text/plain": [
       "False"
      ]
     },
     "execution_count": 10,
     "metadata": {},
     "output_type": "execute_result"
    }
   ],
   "source": [
    "np.any(RNAExpression.values.sum(axis=1) == 0)"
   ]
  },
  {
   "cell_type": "markdown",
   "id": "1b391e66-464b-4238-bc35-e2d3cb59c078",
   "metadata": {},
   "source": [
    "## Copy Number Varation Data"
   ]
  },
  {
   "cell_type": "code",
   "execution_count": 11,
   "id": "c5764d3d-cb1c-4b87-97c5-e1e3255968b1",
   "metadata": {},
   "outputs": [
    {
     "data": {
      "text/html": [
       "<div>\n",
       "<style scoped>\n",
       "    .dataframe tbody tr th:only-of-type {\n",
       "        vertical-align: middle;\n",
       "    }\n",
       "\n",
       "    .dataframe tbody tr th {\n",
       "        vertical-align: top;\n",
       "    }\n",
       "\n",
       "    .dataframe thead th {\n",
       "        text-align: right;\n",
       "    }\n",
       "</style>\n",
       "<table border=\"1\" class=\"dataframe\">\n",
       "  <thead>\n",
       "    <tr style=\"text-align: right;\">\n",
       "      <th></th>\n",
       "      <th>FAM87B (400728)</th>\n",
       "      <th>LINC01128 (643837)</th>\n",
       "      <th>AL669831.7 (107984850)</th>\n",
       "      <th>FAM41C (284593)</th>\n",
       "      <th>LINC02593 (100130417)</th>\n",
       "      <th>SAMD11 (148398)</th>\n",
       "      <th>NOC2L (26155)</th>\n",
       "      <th>KLHL17 (339451)</th>\n",
       "      <th>PLEKHN1 (84069)</th>\n",
       "      <th>PERM1 (84808)</th>\n",
       "      <th>...</th>\n",
       "      <th>TXLNGY (246126)</th>\n",
       "      <th>KDM5D (8284)</th>\n",
       "      <th>AC010889.2 (105377224)</th>\n",
       "      <th>TTTY10 (246119)</th>\n",
       "      <th>EIF1AY (9086)</th>\n",
       "      <th>RPS4Y2 (140032)</th>\n",
       "      <th>PRORY (100533178)</th>\n",
       "      <th>TTTY13 (83868)</th>\n",
       "      <th>TTTY5 (83863)</th>\n",
       "      <th>DAZ3 (57054)</th>\n",
       "    </tr>\n",
       "  </thead>\n",
       "  <tbody>\n",
       "    <tr>\n",
       "      <th>ACH-000431</th>\n",
       "      <td>0.938003</td>\n",
       "      <td>0.938003</td>\n",
       "      <td>0.938003</td>\n",
       "      <td>0.938003</td>\n",
       "      <td>0.938003</td>\n",
       "      <td>0.938003</td>\n",
       "      <td>0.938003</td>\n",
       "      <td>0.938003</td>\n",
       "      <td>0.938003</td>\n",
       "      <td>0.938003</td>\n",
       "      <td>...</td>\n",
       "      <td>NaN</td>\n",
       "      <td>NaN</td>\n",
       "      <td>NaN</td>\n",
       "      <td>NaN</td>\n",
       "      <td>NaN</td>\n",
       "      <td>NaN</td>\n",
       "      <td>NaN</td>\n",
       "      <td>NaN</td>\n",
       "      <td>NaN</td>\n",
       "      <td>NaN</td>\n",
       "    </tr>\n",
       "    <tr>\n",
       "      <th>ACH-000358</th>\n",
       "      <td>0.642543</td>\n",
       "      <td>0.642543</td>\n",
       "      <td>0.642543</td>\n",
       "      <td>0.642543</td>\n",
       "      <td>0.642543</td>\n",
       "      <td>0.642543</td>\n",
       "      <td>0.642543</td>\n",
       "      <td>0.642543</td>\n",
       "      <td>0.642543</td>\n",
       "      <td>0.642543</td>\n",
       "      <td>...</td>\n",
       "      <td>0.666204</td>\n",
       "      <td>0.666204</td>\n",
       "      <td>0.666204</td>\n",
       "      <td>0.666204</td>\n",
       "      <td>0.666204</td>\n",
       "      <td>0.666204</td>\n",
       "      <td>0.666204</td>\n",
       "      <td>0.666204</td>\n",
       "      <td>0.666204</td>\n",
       "      <td>0.666204</td>\n",
       "    </tr>\n",
       "    <tr>\n",
       "      <th>ACH-000207</th>\n",
       "      <td>0.932707</td>\n",
       "      <td>0.932707</td>\n",
       "      <td>0.932707</td>\n",
       "      <td>0.932707</td>\n",
       "      <td>0.932707</td>\n",
       "      <td>0.932707</td>\n",
       "      <td>0.932707</td>\n",
       "      <td>0.932707</td>\n",
       "      <td>0.932707</td>\n",
       "      <td>0.932707</td>\n",
       "      <td>...</td>\n",
       "      <td>NaN</td>\n",
       "      <td>NaN</td>\n",
       "      <td>NaN</td>\n",
       "      <td>NaN</td>\n",
       "      <td>NaN</td>\n",
       "      <td>NaN</td>\n",
       "      <td>NaN</td>\n",
       "      <td>NaN</td>\n",
       "      <td>NaN</td>\n",
       "      <td>NaN</td>\n",
       "    </tr>\n",
       "    <tr>\n",
       "      <th>ACH-002486</th>\n",
       "      <td>1.125419</td>\n",
       "      <td>1.125419</td>\n",
       "      <td>1.125419</td>\n",
       "      <td>1.125419</td>\n",
       "      <td>1.125419</td>\n",
       "      <td>1.125419</td>\n",
       "      <td>1.125419</td>\n",
       "      <td>1.125419</td>\n",
       "      <td>1.125419</td>\n",
       "      <td>1.125419</td>\n",
       "      <td>...</td>\n",
       "      <td>NaN</td>\n",
       "      <td>NaN</td>\n",
       "      <td>NaN</td>\n",
       "      <td>NaN</td>\n",
       "      <td>NaN</td>\n",
       "      <td>NaN</td>\n",
       "      <td>NaN</td>\n",
       "      <td>NaN</td>\n",
       "      <td>NaN</td>\n",
       "      <td>NaN</td>\n",
       "    </tr>\n",
       "    <tr>\n",
       "      <th>ACH-001705</th>\n",
       "      <td>0.829411</td>\n",
       "      <td>0.829411</td>\n",
       "      <td>0.829411</td>\n",
       "      <td>0.829411</td>\n",
       "      <td>0.829411</td>\n",
       "      <td>0.829411</td>\n",
       "      <td>0.829411</td>\n",
       "      <td>0.829411</td>\n",
       "      <td>0.829411</td>\n",
       "      <td>0.829411</td>\n",
       "      <td>...</td>\n",
       "      <td>NaN</td>\n",
       "      <td>NaN</td>\n",
       "      <td>NaN</td>\n",
       "      <td>NaN</td>\n",
       "      <td>NaN</td>\n",
       "      <td>NaN</td>\n",
       "      <td>NaN</td>\n",
       "      <td>NaN</td>\n",
       "      <td>NaN</td>\n",
       "      <td>NaN</td>\n",
       "    </tr>\n",
       "  </tbody>\n",
       "</table>\n",
       "<p>5 rows × 24380 columns</p>\n",
       "</div>"
      ],
      "text/plain": [
       "            FAM87B (400728)  LINC01128 (643837)  AL669831.7 (107984850)  \\\n",
       "ACH-000431         0.938003            0.938003                0.938003   \n",
       "ACH-000358         0.642543            0.642543                0.642543   \n",
       "ACH-000207         0.932707            0.932707                0.932707   \n",
       "ACH-002486         1.125419            1.125419                1.125419   \n",
       "ACH-001705         0.829411            0.829411                0.829411   \n",
       "\n",
       "            FAM41C (284593)  LINC02593 (100130417)  SAMD11 (148398)  \\\n",
       "ACH-000431         0.938003               0.938003         0.938003   \n",
       "ACH-000358         0.642543               0.642543         0.642543   \n",
       "ACH-000207         0.932707               0.932707         0.932707   \n",
       "ACH-002486         1.125419               1.125419         1.125419   \n",
       "ACH-001705         0.829411               0.829411         0.829411   \n",
       "\n",
       "            NOC2L (26155)  KLHL17 (339451)  PLEKHN1 (84069)  PERM1 (84808)  \\\n",
       "ACH-000431       0.938003         0.938003         0.938003       0.938003   \n",
       "ACH-000358       0.642543         0.642543         0.642543       0.642543   \n",
       "ACH-000207       0.932707         0.932707         0.932707       0.932707   \n",
       "ACH-002486       1.125419         1.125419         1.125419       1.125419   \n",
       "ACH-001705       0.829411         0.829411         0.829411       0.829411   \n",
       "\n",
       "            ...  TXLNGY (246126)  KDM5D (8284)  AC010889.2 (105377224)  \\\n",
       "ACH-000431  ...              NaN           NaN                     NaN   \n",
       "ACH-000358  ...         0.666204      0.666204                0.666204   \n",
       "ACH-000207  ...              NaN           NaN                     NaN   \n",
       "ACH-002486  ...              NaN           NaN                     NaN   \n",
       "ACH-001705  ...              NaN           NaN                     NaN   \n",
       "\n",
       "            TTTY10 (246119)  EIF1AY (9086)  RPS4Y2 (140032)  \\\n",
       "ACH-000431              NaN            NaN              NaN   \n",
       "ACH-000358         0.666204       0.666204         0.666204   \n",
       "ACH-000207              NaN            NaN              NaN   \n",
       "ACH-002486              NaN            NaN              NaN   \n",
       "ACH-001705              NaN            NaN              NaN   \n",
       "\n",
       "            PRORY (100533178)  TTTY13 (83868)  TTTY5 (83863)  DAZ3 (57054)  \n",
       "ACH-000431                NaN             NaN            NaN           NaN  \n",
       "ACH-000358           0.666204        0.666204       0.666204      0.666204  \n",
       "ACH-000207                NaN             NaN            NaN           NaN  \n",
       "ACH-002486                NaN             NaN            NaN           NaN  \n",
       "ACH-001705                NaN             NaN            NaN           NaN  \n",
       "\n",
       "[5 rows x 24380 columns]"
      ]
     },
     "execution_count": 11,
     "metadata": {},
     "output_type": "execute_result"
    }
   ],
   "source": [
    "CNAGene_file = os.path.join(inp_dir, 'OmicsCNGene.csv')\n",
    "CNAGene = pd.read_csv(CNAGene_file, index_col=0)\n",
    "CNAGene.head()"
   ]
  },
  {
   "cell_type": "code",
   "execution_count": 12,
   "id": "4db7b531-2298-4164-8fa4-5b99ea6208e0",
   "metadata": {},
   "outputs": [],
   "source": [
    "# rename columns\n",
    "CNAGene_new_columns = [re.sub(' \\([A-z0-9]+\\)', '', x) for x in  CNAGene.columns.values.astype('str')]\n",
    "assert sum(pd.Series(CNAGene_new_columns).duplicated().values) == 0\n",
    "CNAGene.columns = CNAGene_new_columns"
   ]
  },
  {
   "cell_type": "code",
   "execution_count": 13,
   "id": "4981a576-d617-467f-bf9b-046d303a8af0",
   "metadata": {},
   "outputs": [
    {
     "data": {
      "text/plain": [
       "Index(['FAM87B', 'LINC01128', 'AL669831.7', 'FAM41C', 'LINC02593', 'SAMD11',\n",
       "       'NOC2L', 'KLHL17', 'PLEKHN1', 'PERM1',\n",
       "       ...\n",
       "       'TXLNGY', 'KDM5D', 'AC010889.2', 'TTTY10', 'EIF1AY', 'RPS4Y2', 'PRORY',\n",
       "       'TTTY13', 'TTTY5', 'DAZ3'],\n",
       "      dtype='object', length=24380)"
      ]
     },
     "execution_count": 13,
     "metadata": {},
     "output_type": "execute_result"
    }
   ],
   "source": [
    "CNAGene.columns"
   ]
  },
  {
   "cell_type": "code",
   "execution_count": 14,
   "id": "5ef0c231-8fe0-4532-8389-446c6a96c6c7",
   "metadata": {},
   "outputs": [
    {
     "data": {
      "text/plain": [
       "(1750, 24380)"
      ]
     },
     "execution_count": 14,
     "metadata": {},
     "output_type": "execute_result"
    }
   ],
   "source": [
    "CNAGene.shape"
   ]
  },
  {
   "cell_type": "code",
   "execution_count": 15,
   "id": "750c0b15-1de7-44ff-ac73-ab7655e701e8",
   "metadata": {},
   "outputs": [
    {
     "data": {
      "text/plain": [
       "False"
      ]
     },
     "execution_count": 15,
     "metadata": {},
     "output_type": "execute_result"
    }
   ],
   "source": [
    "np.any(CNAGene.values.sum(axis=0) == 0)"
   ]
  },
  {
   "cell_type": "code",
   "execution_count": 16,
   "id": "7e8d0779-ad23-4ce4-8d6f-a5d095ca9577",
   "metadata": {},
   "outputs": [
    {
     "data": {
      "text/plain": [
       "False"
      ]
     },
     "execution_count": 16,
     "metadata": {},
     "output_type": "execute_result"
    }
   ],
   "source": [
    "np.any(CNAGene.values.sum(axis=1) == 0)"
   ]
  },
  {
   "cell_type": "markdown",
   "id": "33526cdb-f463-47ff-8455-97ae2bf9f982",
   "metadata": {},
   "source": [
    "## Somatic Mutation (Damaging)"
   ]
  },
  {
   "cell_type": "code",
   "execution_count": 17,
   "id": "fa41922c-1d32-4599-8990-dce04f6abba8",
   "metadata": {},
   "outputs": [
    {
     "data": {
      "text/html": [
       "<div>\n",
       "<style scoped>\n",
       "    .dataframe tbody tr th:only-of-type {\n",
       "        vertical-align: middle;\n",
       "    }\n",
       "\n",
       "    .dataframe tbody tr th {\n",
       "        vertical-align: top;\n",
       "    }\n",
       "\n",
       "    .dataframe thead th {\n",
       "        text-align: right;\n",
       "    }\n",
       "</style>\n",
       "<table border=\"1\" class=\"dataframe\">\n",
       "  <thead>\n",
       "    <tr style=\"text-align: right;\">\n",
       "      <th></th>\n",
       "      <th>FAM87B (400728)</th>\n",
       "      <th>LINC01128 (643837)</th>\n",
       "      <th>SAMD11 (148398)</th>\n",
       "      <th>NOC2L (26155)</th>\n",
       "      <th>KLHL17 (339451)</th>\n",
       "      <th>PERM1 (84808)</th>\n",
       "      <th>HES4 (57801)</th>\n",
       "      <th>ISG15 (9636)</th>\n",
       "      <th>AGRN (375790)</th>\n",
       "      <th>RNF223 (401934)</th>\n",
       "      <th>...</th>\n",
       "      <th>TRMT1P1 (Unknown)</th>\n",
       "      <th>SRY (6736)</th>\n",
       "      <th>RPS4Y1 (6192)</th>\n",
       "      <th>RBMY1A3P (Unknown)</th>\n",
       "      <th>CHEK2P1 (Unknown)</th>\n",
       "      <th>ARSDP1 (Unknown)</th>\n",
       "      <th>ANOS2P (Unknown)</th>\n",
       "      <th>TTTY13 (83868)</th>\n",
       "      <th>TPTE2P4 (Unknown)</th>\n",
       "      <th>PARP4P1 (Unknown)</th>\n",
       "    </tr>\n",
       "  </thead>\n",
       "  <tbody>\n",
       "    <tr>\n",
       "      <th>ACH-000062</th>\n",
       "      <td>1.0</td>\n",
       "      <td>0.0</td>\n",
       "      <td>0.0</td>\n",
       "      <td>0.0</td>\n",
       "      <td>0.0</td>\n",
       "      <td>0.0</td>\n",
       "      <td>0.0</td>\n",
       "      <td>0.0</td>\n",
       "      <td>0.0</td>\n",
       "      <td>0.0</td>\n",
       "      <td>...</td>\n",
       "      <td>0.0</td>\n",
       "      <td>0.0</td>\n",
       "      <td>0.0</td>\n",
       "      <td>0.0</td>\n",
       "      <td>0.0</td>\n",
       "      <td>0.0</td>\n",
       "      <td>0.0</td>\n",
       "      <td>0.0</td>\n",
       "      <td>0.0</td>\n",
       "      <td>0.0</td>\n",
       "    </tr>\n",
       "    <tr>\n",
       "      <th>ACH-000693</th>\n",
       "      <td>0.0</td>\n",
       "      <td>0.0</td>\n",
       "      <td>0.0</td>\n",
       "      <td>0.0</td>\n",
       "      <td>0.0</td>\n",
       "      <td>0.0</td>\n",
       "      <td>0.0</td>\n",
       "      <td>0.0</td>\n",
       "      <td>0.0</td>\n",
       "      <td>0.0</td>\n",
       "      <td>...</td>\n",
       "      <td>0.0</td>\n",
       "      <td>0.0</td>\n",
       "      <td>0.0</td>\n",
       "      <td>0.0</td>\n",
       "      <td>0.0</td>\n",
       "      <td>0.0</td>\n",
       "      <td>0.0</td>\n",
       "      <td>0.0</td>\n",
       "      <td>0.0</td>\n",
       "      <td>0.0</td>\n",
       "    </tr>\n",
       "    <tr>\n",
       "      <th>ACH-000930</th>\n",
       "      <td>0.0</td>\n",
       "      <td>0.0</td>\n",
       "      <td>0.0</td>\n",
       "      <td>0.0</td>\n",
       "      <td>0.0</td>\n",
       "      <td>0.0</td>\n",
       "      <td>0.0</td>\n",
       "      <td>0.0</td>\n",
       "      <td>0.0</td>\n",
       "      <td>0.0</td>\n",
       "      <td>...</td>\n",
       "      <td>0.0</td>\n",
       "      <td>0.0</td>\n",
       "      <td>0.0</td>\n",
       "      <td>0.0</td>\n",
       "      <td>0.0</td>\n",
       "      <td>0.0</td>\n",
       "      <td>0.0</td>\n",
       "      <td>0.0</td>\n",
       "      <td>0.0</td>\n",
       "      <td>0.0</td>\n",
       "    </tr>\n",
       "    <tr>\n",
       "      <th>ACH-001691</th>\n",
       "      <td>0.0</td>\n",
       "      <td>0.0</td>\n",
       "      <td>0.0</td>\n",
       "      <td>0.0</td>\n",
       "      <td>0.0</td>\n",
       "      <td>0.0</td>\n",
       "      <td>0.0</td>\n",
       "      <td>0.0</td>\n",
       "      <td>0.0</td>\n",
       "      <td>0.0</td>\n",
       "      <td>...</td>\n",
       "      <td>0.0</td>\n",
       "      <td>0.0</td>\n",
       "      <td>0.0</td>\n",
       "      <td>0.0</td>\n",
       "      <td>0.0</td>\n",
       "      <td>0.0</td>\n",
       "      <td>0.0</td>\n",
       "      <td>0.0</td>\n",
       "      <td>0.0</td>\n",
       "      <td>0.0</td>\n",
       "    </tr>\n",
       "    <tr>\n",
       "      <th>ACH-000956</th>\n",
       "      <td>0.0</td>\n",
       "      <td>0.0</td>\n",
       "      <td>0.0</td>\n",
       "      <td>0.0</td>\n",
       "      <td>1.0</td>\n",
       "      <td>0.0</td>\n",
       "      <td>0.0</td>\n",
       "      <td>0.0</td>\n",
       "      <td>1.0</td>\n",
       "      <td>0.0</td>\n",
       "      <td>...</td>\n",
       "      <td>0.0</td>\n",
       "      <td>0.0</td>\n",
       "      <td>0.0</td>\n",
       "      <td>0.0</td>\n",
       "      <td>0.0</td>\n",
       "      <td>0.0</td>\n",
       "      <td>0.0</td>\n",
       "      <td>0.0</td>\n",
       "      <td>0.0</td>\n",
       "      <td>0.0</td>\n",
       "    </tr>\n",
       "  </tbody>\n",
       "</table>\n",
       "<p>5 rows × 18748 columns</p>\n",
       "</div>"
      ],
      "text/plain": [
       "            FAM87B (400728)  LINC01128 (643837)  SAMD11 (148398)  \\\n",
       "ACH-000062              1.0                 0.0              0.0   \n",
       "ACH-000693              0.0                 0.0              0.0   \n",
       "ACH-000930              0.0                 0.0              0.0   \n",
       "ACH-001691              0.0                 0.0              0.0   \n",
       "ACH-000956              0.0                 0.0              0.0   \n",
       "\n",
       "            NOC2L (26155)  KLHL17 (339451)  PERM1 (84808)  HES4 (57801)  \\\n",
       "ACH-000062            0.0              0.0            0.0           0.0   \n",
       "ACH-000693            0.0              0.0            0.0           0.0   \n",
       "ACH-000930            0.0              0.0            0.0           0.0   \n",
       "ACH-001691            0.0              0.0            0.0           0.0   \n",
       "ACH-000956            0.0              1.0            0.0           0.0   \n",
       "\n",
       "            ISG15 (9636)  AGRN (375790)  RNF223 (401934)  ...  \\\n",
       "ACH-000062           0.0            0.0              0.0  ...   \n",
       "ACH-000693           0.0            0.0              0.0  ...   \n",
       "ACH-000930           0.0            0.0              0.0  ...   \n",
       "ACH-001691           0.0            0.0              0.0  ...   \n",
       "ACH-000956           0.0            1.0              0.0  ...   \n",
       "\n",
       "            TRMT1P1 (Unknown)  SRY (6736)  RPS4Y1 (6192)  RBMY1A3P (Unknown)  \\\n",
       "ACH-000062                0.0         0.0            0.0                 0.0   \n",
       "ACH-000693                0.0         0.0            0.0                 0.0   \n",
       "ACH-000930                0.0         0.0            0.0                 0.0   \n",
       "ACH-001691                0.0         0.0            0.0                 0.0   \n",
       "ACH-000956                0.0         0.0            0.0                 0.0   \n",
       "\n",
       "            CHEK2P1 (Unknown)  ARSDP1 (Unknown)  ANOS2P (Unknown)  \\\n",
       "ACH-000062                0.0               0.0               0.0   \n",
       "ACH-000693                0.0               0.0               0.0   \n",
       "ACH-000930                0.0               0.0               0.0   \n",
       "ACH-001691                0.0               0.0               0.0   \n",
       "ACH-000956                0.0               0.0               0.0   \n",
       "\n",
       "            TTTY13 (83868)  TPTE2P4 (Unknown)  PARP4P1 (Unknown)  \n",
       "ACH-000062             0.0                0.0                0.0  \n",
       "ACH-000693             0.0                0.0                0.0  \n",
       "ACH-000930             0.0                0.0                0.0  \n",
       "ACH-001691             0.0                0.0                0.0  \n",
       "ACH-000956             0.0                0.0                0.0  \n",
       "\n",
       "[5 rows x 18748 columns]"
      ]
     },
     "execution_count": 17,
     "metadata": {},
     "output_type": "execute_result"
    }
   ],
   "source": [
    "SNVGene_file = os.path.join(inp_dir, 'OmicsSomaticMutationsMatrixDamaging.csv')\n",
    "SNVGene = pd.read_csv(SNVGene_file, index_col=0)\n",
    "SNVGene.head()"
   ]
  },
  {
   "cell_type": "code",
   "execution_count": 18,
   "id": "4fad6440-f166-4b83-a4ce-5ec393e4d544",
   "metadata": {},
   "outputs": [],
   "source": [
    "# rename columns\n",
    "SNVGene_new_columns = [re.sub(' \\([A-z0-9]+\\)', '', x) for x in  SNVGene.columns.values.astype('str')]\n",
    "assert sum(pd.Series(SNVGene_new_columns).duplicated().values) == 0\n",
    "SNVGene.columns = SNVGene_new_columns"
   ]
  },
  {
   "cell_type": "code",
   "execution_count": 19,
   "id": "762a7381-322b-4feb-9c7b-bf5a75fe78af",
   "metadata": {},
   "outputs": [
    {
     "data": {
      "text/plain": [
       "Index(['FAM87B', 'LINC01128', 'SAMD11', 'NOC2L', 'KLHL17', 'PERM1', 'HES4',\n",
       "       'ISG15', 'AGRN', 'RNF223',\n",
       "       ...\n",
       "       'TRMT1P1', 'SRY', 'RPS4Y1', 'RBMY1A3P', 'CHEK2P1', 'ARSDP1', 'ANOS2P',\n",
       "       'TTTY13', 'TPTE2P4', 'PARP4P1'],\n",
       "      dtype='object', length=18748)"
      ]
     },
     "execution_count": 19,
     "metadata": {},
     "output_type": "execute_result"
    }
   ],
   "source": [
    "SNVGene.columns"
   ]
  },
  {
   "cell_type": "code",
   "execution_count": 20,
   "id": "1e5f4b3c-790b-4f40-ad60-59c855cf87ac",
   "metadata": {},
   "outputs": [
    {
     "data": {
      "text/plain": [
       "(1750, 18748)"
      ]
     },
     "execution_count": 20,
     "metadata": {},
     "output_type": "execute_result"
    }
   ],
   "source": [
    "SNVGene.shape"
   ]
  },
  {
   "cell_type": "code",
   "execution_count": 21,
   "id": "2f41517a-2071-4ae7-8229-310ce80620a3",
   "metadata": {},
   "outputs": [
    {
     "data": {
      "text/plain": [
       "True"
      ]
     },
     "execution_count": 21,
     "metadata": {},
     "output_type": "execute_result"
    }
   ],
   "source": [
    "np.any(SNVGene.values.sum(axis=0) == 0)"
   ]
  },
  {
   "cell_type": "code",
   "execution_count": 22,
   "id": "674de732-dfe5-4a0c-b8a1-2adeef341a7d",
   "metadata": {},
   "outputs": [
    {
     "data": {
      "text/plain": [
       "False"
      ]
     },
     "execution_count": 22,
     "metadata": {},
     "output_type": "execute_result"
    }
   ],
   "source": [
    "np.any(SNVGene.values.sum(axis=1) == 0)"
   ]
  },
  {
   "cell_type": "code",
   "execution_count": 23,
   "id": "9ef67e6e-f885-4a2a-b443-874dece155cf",
   "metadata": {},
   "outputs": [],
   "source": [
    "SNVGene = SNVGene.iloc[:,SNVGene.values.sum(axis=0) > 0]"
   ]
  },
  {
   "cell_type": "code",
   "execution_count": 24,
   "id": "bc60b359-c38d-4821-9997-fca543ba6d2f",
   "metadata": {},
   "outputs": [
    {
     "data": {
      "text/plain": [
       "(1750, 17779)"
      ]
     },
     "execution_count": 24,
     "metadata": {},
     "output_type": "execute_result"
    }
   ],
   "source": [
    "SNVGene.shape"
   ]
  },
  {
   "cell_type": "code",
   "execution_count": 25,
   "id": "cb16156e-38d4-43eb-b1b3-972696592753",
   "metadata": {},
   "outputs": [
    {
     "data": {
      "text/plain": [
       "False"
      ]
     },
     "execution_count": 25,
     "metadata": {},
     "output_type": "execute_result"
    }
   ],
   "source": [
    "np.any(SNVGene.values.sum(axis=0) == SNVGene.shape[1])"
   ]
  },
  {
   "cell_type": "markdown",
   "id": "a6174d78-64e6-4cb0-a44b-ca600dd2fa4a",
   "metadata": {},
   "source": [
    "## CRISPR Gene Effect Data"
   ]
  },
  {
   "cell_type": "code",
   "execution_count": 26,
   "id": "e1fa46b1-f991-4e37-958a-1d11c95c49a0",
   "metadata": {},
   "outputs": [
    {
     "data": {
      "text/html": [
       "<div>\n",
       "<style scoped>\n",
       "    .dataframe tbody tr th:only-of-type {\n",
       "        vertical-align: middle;\n",
       "    }\n",
       "\n",
       "    .dataframe tbody tr th {\n",
       "        vertical-align: top;\n",
       "    }\n",
       "\n",
       "    .dataframe thead th {\n",
       "        text-align: right;\n",
       "    }\n",
       "</style>\n",
       "<table border=\"1\" class=\"dataframe\">\n",
       "  <thead>\n",
       "    <tr style=\"text-align: right;\">\n",
       "      <th></th>\n",
       "      <th>A1BG (1)</th>\n",
       "      <th>A1CF (29974)</th>\n",
       "      <th>A2M (2)</th>\n",
       "      <th>A2ML1 (144568)</th>\n",
       "      <th>A3GALT2 (127550)</th>\n",
       "      <th>A4GALT (53947)</th>\n",
       "      <th>A4GNT (51146)</th>\n",
       "      <th>AAAS (8086)</th>\n",
       "      <th>AACS (65985)</th>\n",
       "      <th>AADAC (13)</th>\n",
       "      <th>...</th>\n",
       "      <th>ZWILCH (55055)</th>\n",
       "      <th>ZWINT (11130)</th>\n",
       "      <th>ZXDA (7789)</th>\n",
       "      <th>ZXDB (158586)</th>\n",
       "      <th>ZXDC (79364)</th>\n",
       "      <th>ZYG11A (440590)</th>\n",
       "      <th>ZYG11B (79699)</th>\n",
       "      <th>ZYX (7791)</th>\n",
       "      <th>ZZEF1 (23140)</th>\n",
       "      <th>ZZZ3 (26009)</th>\n",
       "    </tr>\n",
       "  </thead>\n",
       "  <tbody>\n",
       "    <tr>\n",
       "      <th>ACH-000001</th>\n",
       "      <td>-0.122637</td>\n",
       "      <td>0.025881</td>\n",
       "      <td>0.034217</td>\n",
       "      <td>-0.128082</td>\n",
       "      <td>-0.031285</td>\n",
       "      <td>0.338046</td>\n",
       "      <td>-0.006439</td>\n",
       "      <td>-0.093642</td>\n",
       "      <td>0.189186</td>\n",
       "      <td>0.042783</td>\n",
       "      <td>...</td>\n",
       "      <td>-0.131727</td>\n",
       "      <td>-0.039829</td>\n",
       "      <td>0.179405</td>\n",
       "      <td>0.283552</td>\n",
       "      <td>0.204513</td>\n",
       "      <td>-0.289724</td>\n",
       "      <td>-0.062972</td>\n",
       "      <td>0.074180</td>\n",
       "      <td>0.111244</td>\n",
       "      <td>-0.467908</td>\n",
       "    </tr>\n",
       "    <tr>\n",
       "      <th>ACH-000004</th>\n",
       "      <td>0.019756</td>\n",
       "      <td>-0.083640</td>\n",
       "      <td>-0.060118</td>\n",
       "      <td>-0.027417</td>\n",
       "      <td>-0.036116</td>\n",
       "      <td>-0.001056</td>\n",
       "      <td>0.312876</td>\n",
       "      <td>-0.086897</td>\n",
       "      <td>0.204434</td>\n",
       "      <td>0.188715</td>\n",
       "      <td>...</td>\n",
       "      <td>-0.170329</td>\n",
       "      <td>-0.454263</td>\n",
       "      <td>0.194583</td>\n",
       "      <td>0.098989</td>\n",
       "      <td>0.126948</td>\n",
       "      <td>0.032983</td>\n",
       "      <td>-0.410392</td>\n",
       "      <td>0.113156</td>\n",
       "      <td>0.234388</td>\n",
       "      <td>-0.088306</td>\n",
       "    </tr>\n",
       "    <tr>\n",
       "      <th>ACH-000005</th>\n",
       "      <td>-0.107208</td>\n",
       "      <td>-0.023211</td>\n",
       "      <td>0.200204</td>\n",
       "      <td>0.116039</td>\n",
       "      <td>-0.172227</td>\n",
       "      <td>-0.071294</td>\n",
       "      <td>0.203270</td>\n",
       "      <td>-0.127806</td>\n",
       "      <td>-0.090981</td>\n",
       "      <td>0.073349</td>\n",
       "      <td>...</td>\n",
       "      <td>-0.301695</td>\n",
       "      <td>-0.454969</td>\n",
       "      <td>-0.061959</td>\n",
       "      <td>-0.036427</td>\n",
       "      <td>0.016602</td>\n",
       "      <td>-0.201273</td>\n",
       "      <td>-0.178877</td>\n",
       "      <td>-0.055349</td>\n",
       "      <td>-0.002161</td>\n",
       "      <td>-0.186842</td>\n",
       "    </tr>\n",
       "    <tr>\n",
       "      <th>ACH-000007</th>\n",
       "      <td>-0.031027</td>\n",
       "      <td>-0.137850</td>\n",
       "      <td>0.067704</td>\n",
       "      <td>0.107988</td>\n",
       "      <td>0.007992</td>\n",
       "      <td>0.124945</td>\n",
       "      <td>0.049548</td>\n",
       "      <td>-0.220824</td>\n",
       "      <td>-0.165669</td>\n",
       "      <td>0.230047</td>\n",
       "      <td>...</td>\n",
       "      <td>-0.303390</td>\n",
       "      <td>-0.507272</td>\n",
       "      <td>-0.025400</td>\n",
       "      <td>0.236659</td>\n",
       "      <td>0.072010</td>\n",
       "      <td>-0.100344</td>\n",
       "      <td>-0.462160</td>\n",
       "      <td>-0.001555</td>\n",
       "      <td>-0.325964</td>\n",
       "      <td>-0.486660</td>\n",
       "    </tr>\n",
       "    <tr>\n",
       "      <th>ACH-000009</th>\n",
       "      <td>0.008888</td>\n",
       "      <td>-0.146566</td>\n",
       "      <td>0.084471</td>\n",
       "      <td>0.089419</td>\n",
       "      <td>0.065109</td>\n",
       "      <td>0.027841</td>\n",
       "      <td>0.087943</td>\n",
       "      <td>-0.161369</td>\n",
       "      <td>0.041121</td>\n",
       "      <td>0.136621</td>\n",
       "      <td>...</td>\n",
       "      <td>-0.255466</td>\n",
       "      <td>-0.288739</td>\n",
       "      <td>-0.037132</td>\n",
       "      <td>0.261444</td>\n",
       "      <td>-0.062391</td>\n",
       "      <td>-0.112703</td>\n",
       "      <td>-0.598698</td>\n",
       "      <td>0.095877</td>\n",
       "      <td>-0.026742</td>\n",
       "      <td>-0.320759</td>\n",
       "    </tr>\n",
       "  </tbody>\n",
       "</table>\n",
       "<p>5 rows × 18443 columns</p>\n",
       "</div>"
      ],
      "text/plain": [
       "            A1BG (1)  A1CF (29974)   A2M (2)  A2ML1 (144568)  \\\n",
       "ACH-000001 -0.122637      0.025881  0.034217       -0.128082   \n",
       "ACH-000004  0.019756     -0.083640 -0.060118       -0.027417   \n",
       "ACH-000005 -0.107208     -0.023211  0.200204        0.116039   \n",
       "ACH-000007 -0.031027     -0.137850  0.067704        0.107988   \n",
       "ACH-000009  0.008888     -0.146566  0.084471        0.089419   \n",
       "\n",
       "            A3GALT2 (127550)  A4GALT (53947)  A4GNT (51146)  AAAS (8086)  \\\n",
       "ACH-000001         -0.031285        0.338046      -0.006439    -0.093642   \n",
       "ACH-000004         -0.036116       -0.001056       0.312876    -0.086897   \n",
       "ACH-000005         -0.172227       -0.071294       0.203270    -0.127806   \n",
       "ACH-000007          0.007992        0.124945       0.049548    -0.220824   \n",
       "ACH-000009          0.065109        0.027841       0.087943    -0.161369   \n",
       "\n",
       "            AACS (65985)  AADAC (13)  ...  ZWILCH (55055)  ZWINT (11130)  \\\n",
       "ACH-000001      0.189186    0.042783  ...       -0.131727      -0.039829   \n",
       "ACH-000004      0.204434    0.188715  ...       -0.170329      -0.454263   \n",
       "ACH-000005     -0.090981    0.073349  ...       -0.301695      -0.454969   \n",
       "ACH-000007     -0.165669    0.230047  ...       -0.303390      -0.507272   \n",
       "ACH-000009      0.041121    0.136621  ...       -0.255466      -0.288739   \n",
       "\n",
       "            ZXDA (7789)  ZXDB (158586)  ZXDC (79364)  ZYG11A (440590)  \\\n",
       "ACH-000001     0.179405       0.283552      0.204513        -0.289724   \n",
       "ACH-000004     0.194583       0.098989      0.126948         0.032983   \n",
       "ACH-000005    -0.061959      -0.036427      0.016602        -0.201273   \n",
       "ACH-000007    -0.025400       0.236659      0.072010        -0.100344   \n",
       "ACH-000009    -0.037132       0.261444     -0.062391        -0.112703   \n",
       "\n",
       "            ZYG11B (79699)  ZYX (7791)  ZZEF1 (23140)  ZZZ3 (26009)  \n",
       "ACH-000001       -0.062972    0.074180       0.111244     -0.467908  \n",
       "ACH-000004       -0.410392    0.113156       0.234388     -0.088306  \n",
       "ACH-000005       -0.178877   -0.055349      -0.002161     -0.186842  \n",
       "ACH-000007       -0.462160   -0.001555      -0.325964     -0.486660  \n",
       "ACH-000009       -0.598698    0.095877      -0.026742     -0.320759  \n",
       "\n",
       "[5 rows x 18443 columns]"
      ]
     },
     "execution_count": 26,
     "metadata": {},
     "output_type": "execute_result"
    }
   ],
   "source": [
    "CRISPRGeneEffect_file = os.path.join(inp_dir, 'CRISPRGeneEffect.csv')\n",
    "CRISPRGeneEffect = pd.read_csv(CRISPRGeneEffect_file, index_col=0)\n",
    "CRISPRGeneEffect.head()"
   ]
  },
  {
   "cell_type": "code",
   "execution_count": 27,
   "id": "30904178-1f9c-4838-9cf5-87a18ca635a7",
   "metadata": {},
   "outputs": [
    {
     "data": {
      "text/plain": [
       "(1100, 18443)"
      ]
     },
     "execution_count": 27,
     "metadata": {},
     "output_type": "execute_result"
    }
   ],
   "source": [
    "CRISPRGeneEffect.shape"
   ]
  },
  {
   "cell_type": "code",
   "execution_count": 28,
   "id": "f62f2efa-f51f-4ea2-90de-862fe7f19d72",
   "metadata": {},
   "outputs": [
    {
     "data": {
      "text/html": [
       "<div>\n",
       "<style scoped>\n",
       "    .dataframe tbody tr th:only-of-type {\n",
       "        vertical-align: middle;\n",
       "    }\n",
       "\n",
       "    .dataframe tbody tr th {\n",
       "        vertical-align: top;\n",
       "    }\n",
       "\n",
       "    .dataframe thead th {\n",
       "        text-align: right;\n",
       "    }\n",
       "</style>\n",
       "<table border=\"1\" class=\"dataframe\">\n",
       "  <thead>\n",
       "    <tr style=\"text-align: right;\">\n",
       "      <th></th>\n",
       "      <th>A1BG (1)</th>\n",
       "      <th>A1CF (29974)</th>\n",
       "      <th>A2M (2)</th>\n",
       "      <th>A2ML1 (144568)</th>\n",
       "      <th>A3GALT2 (127550)</th>\n",
       "      <th>A4GALT (53947)</th>\n",
       "      <th>A4GNT (51146)</th>\n",
       "      <th>AAAS (8086)</th>\n",
       "      <th>AACS (65985)</th>\n",
       "      <th>AADAC (13)</th>\n",
       "      <th>...</th>\n",
       "      <th>ZWILCH (55055)</th>\n",
       "      <th>ZWINT (11130)</th>\n",
       "      <th>ZXDA (7789)</th>\n",
       "      <th>ZXDB (158586)</th>\n",
       "      <th>ZXDC (79364)</th>\n",
       "      <th>ZYG11A (440590)</th>\n",
       "      <th>ZYG11B (79699)</th>\n",
       "      <th>ZYX (7791)</th>\n",
       "      <th>ZZEF1 (23140)</th>\n",
       "      <th>ZZZ3 (26009)</th>\n",
       "    </tr>\n",
       "  </thead>\n",
       "  <tbody>\n",
       "    <tr>\n",
       "      <th>ACH-000001</th>\n",
       "      <td>0.063550</td>\n",
       "      <td>0.017803</td>\n",
       "      <td>0.016486</td>\n",
       "      <td>0.066293</td>\n",
       "      <td>0.029758</td>\n",
       "      <td>0.000815</td>\n",
       "      <td>0.023883</td>\n",
       "      <td>0.050448</td>\n",
       "      <td>0.003767</td>\n",
       "      <td>0.015225</td>\n",
       "      <td>...</td>\n",
       "      <td>0.068175</td>\n",
       "      <td>0.032055</td>\n",
       "      <td>0.004142</td>\n",
       "      <td>0.001468</td>\n",
       "      <td>0.003247</td>\n",
       "      <td>0.195908</td>\n",
       "      <td>0.039109</td>\n",
       "      <td>0.011347</td>\n",
       "      <td>0.007978</td>\n",
       "      <td>0.437038</td>\n",
       "    </tr>\n",
       "    <tr>\n",
       "      <th>ACH-000004</th>\n",
       "      <td>0.016670</td>\n",
       "      <td>0.044559</td>\n",
       "      <td>0.035885</td>\n",
       "      <td>0.026364</td>\n",
       "      <td>0.028644</td>\n",
       "      <td>0.020426</td>\n",
       "      <td>0.000832</td>\n",
       "      <td>0.045910</td>\n",
       "      <td>0.002606</td>\n",
       "      <td>0.003058</td>\n",
       "      <td>...</td>\n",
       "      <td>0.093742</td>\n",
       "      <td>0.493753</td>\n",
       "      <td>0.002883</td>\n",
       "      <td>0.007575</td>\n",
       "      <td>0.005719</td>\n",
       "      <td>0.014641</td>\n",
       "      <td>0.414198</td>\n",
       "      <td>0.006575</td>\n",
       "      <td>0.001914</td>\n",
       "      <td>0.046494</td>\n",
       "    </tr>\n",
       "    <tr>\n",
       "      <th>ACH-000005</th>\n",
       "      <td>0.040757</td>\n",
       "      <td>0.022681</td>\n",
       "      <td>0.005047</td>\n",
       "      <td>0.008861</td>\n",
       "      <td>0.064044</td>\n",
       "      <td>0.031699</td>\n",
       "      <td>0.004941</td>\n",
       "      <td>0.047061</td>\n",
       "      <td>0.036375</td>\n",
       "      <td>0.011763</td>\n",
       "      <td>...</td>\n",
       "      <td>0.152467</td>\n",
       "      <td>0.362731</td>\n",
       "      <td>0.029695</td>\n",
       "      <td>0.024869</td>\n",
       "      <td>0.017247</td>\n",
       "      <td>0.078232</td>\n",
       "      <td>0.067087</td>\n",
       "      <td>0.028369</td>\n",
       "      <td>0.019612</td>\n",
       "      <td>0.070876</td>\n",
       "    </tr>\n",
       "    <tr>\n",
       "      <th>ACH-000007</th>\n",
       "      <td>0.018149</td>\n",
       "      <td>0.051901</td>\n",
       "      <td>0.006559</td>\n",
       "      <td>0.004373</td>\n",
       "      <td>0.012135</td>\n",
       "      <td>0.003699</td>\n",
       "      <td>0.007898</td>\n",
       "      <td>0.107051</td>\n",
       "      <td>0.066871</td>\n",
       "      <td>0.001368</td>\n",
       "      <td>...</td>\n",
       "      <td>0.197652</td>\n",
       "      <td>0.550288</td>\n",
       "      <td>0.017119</td>\n",
       "      <td>0.001285</td>\n",
       "      <td>0.006273</td>\n",
       "      <td>0.036344</td>\n",
       "      <td>0.464681</td>\n",
       "      <td>0.013396</td>\n",
       "      <td>0.229044</td>\n",
       "      <td>0.511280</td>\n",
       "    </tr>\n",
       "    <tr>\n",
       "      <th>ACH-000009</th>\n",
       "      <td>0.026656</td>\n",
       "      <td>0.115825</td>\n",
       "      <td>0.011635</td>\n",
       "      <td>0.011006</td>\n",
       "      <td>0.014439</td>\n",
       "      <td>0.021746</td>\n",
       "      <td>0.011194</td>\n",
       "      <td>0.130169</td>\n",
       "      <td>0.018793</td>\n",
       "      <td>0.006508</td>\n",
       "      <td>...</td>\n",
       "      <td>0.246275</td>\n",
       "      <td>0.295764</td>\n",
       "      <td>0.042915</td>\n",
       "      <td>0.001720</td>\n",
       "      <td>0.055031</td>\n",
       "      <td>0.087271</td>\n",
       "      <td>0.739790</td>\n",
       "      <td>0.010245</td>\n",
       "      <td>0.038641</td>\n",
       "      <td>0.345928</td>\n",
       "    </tr>\n",
       "  </tbody>\n",
       "</table>\n",
       "<p>5 rows × 18443 columns</p>\n",
       "</div>"
      ],
      "text/plain": [
       "            A1BG (1)  A1CF (29974)   A2M (2)  A2ML1 (144568)  \\\n",
       "ACH-000001  0.063550      0.017803  0.016486        0.066293   \n",
       "ACH-000004  0.016670      0.044559  0.035885        0.026364   \n",
       "ACH-000005  0.040757      0.022681  0.005047        0.008861   \n",
       "ACH-000007  0.018149      0.051901  0.006559        0.004373   \n",
       "ACH-000009  0.026656      0.115825  0.011635        0.011006   \n",
       "\n",
       "            A3GALT2 (127550)  A4GALT (53947)  A4GNT (51146)  AAAS (8086)  \\\n",
       "ACH-000001          0.029758        0.000815       0.023883     0.050448   \n",
       "ACH-000004          0.028644        0.020426       0.000832     0.045910   \n",
       "ACH-000005          0.064044        0.031699       0.004941     0.047061   \n",
       "ACH-000007          0.012135        0.003699       0.007898     0.107051   \n",
       "ACH-000009          0.014439        0.021746       0.011194     0.130169   \n",
       "\n",
       "            AACS (65985)  AADAC (13)  ...  ZWILCH (55055)  ZWINT (11130)  \\\n",
       "ACH-000001      0.003767    0.015225  ...        0.068175       0.032055   \n",
       "ACH-000004      0.002606    0.003058  ...        0.093742       0.493753   \n",
       "ACH-000005      0.036375    0.011763  ...        0.152467       0.362731   \n",
       "ACH-000007      0.066871    0.001368  ...        0.197652       0.550288   \n",
       "ACH-000009      0.018793    0.006508  ...        0.246275       0.295764   \n",
       "\n",
       "            ZXDA (7789)  ZXDB (158586)  ZXDC (79364)  ZYG11A (440590)  \\\n",
       "ACH-000001     0.004142       0.001468      0.003247         0.195908   \n",
       "ACH-000004     0.002883       0.007575      0.005719         0.014641   \n",
       "ACH-000005     0.029695       0.024869      0.017247         0.078232   \n",
       "ACH-000007     0.017119       0.001285      0.006273         0.036344   \n",
       "ACH-000009     0.042915       0.001720      0.055031         0.087271   \n",
       "\n",
       "            ZYG11B (79699)  ZYX (7791)  ZZEF1 (23140)  ZZZ3 (26009)  \n",
       "ACH-000001        0.039109    0.011347       0.007978      0.437038  \n",
       "ACH-000004        0.414198    0.006575       0.001914      0.046494  \n",
       "ACH-000005        0.067087    0.028369       0.019612      0.070876  \n",
       "ACH-000007        0.464681    0.013396       0.229044      0.511280  \n",
       "ACH-000009        0.739790    0.010245       0.038641      0.345928  \n",
       "\n",
       "[5 rows x 18443 columns]"
      ]
     },
     "execution_count": 28,
     "metadata": {},
     "output_type": "execute_result"
    }
   ],
   "source": [
    "CRISPRGeneDependency_file = os.path.join(inp_dir, 'CRISPRGeneDependency.csv')\n",
    "CRISPRGeneDependency = pd.read_csv(CRISPRGeneDependency_file, index_col=0)\n",
    "CRISPRGeneDependency.head()"
   ]
  },
  {
   "cell_type": "code",
   "execution_count": 29,
   "id": "706bcdd7-e613-4224-b15f-5a670051af1f",
   "metadata": {},
   "outputs": [],
   "source": [
    "# rename columns\n",
    "CRISPRGeneDependency_new_columns = [re.sub(' \\([A-z0-9]+\\)', '', x) for x in  CRISPRGeneDependency.columns.values.astype('str')]\n",
    "assert sum(pd.Series(CRISPRGeneDependency_new_columns).duplicated().values) == 0\n",
    "CRISPRGeneDependency.columns = CRISPRGeneDependency_new_columns"
   ]
  },
  {
   "cell_type": "code",
   "execution_count": 30,
   "id": "7cd39c5e-b713-4d91-b5b9-764d5d5cc098",
   "metadata": {},
   "outputs": [
    {
     "data": {
      "text/plain": [
       "Index(['A1BG', 'A1CF', 'A2M', 'A2ML1', 'A3GALT2', 'A4GALT', 'A4GNT', 'AAAS',\n",
       "       'AACS', 'AADAC',\n",
       "       ...\n",
       "       'ZWILCH', 'ZWINT', 'ZXDA', 'ZXDB', 'ZXDC', 'ZYG11A', 'ZYG11B', 'ZYX',\n",
       "       'ZZEF1', 'ZZZ3'],\n",
       "      dtype='object', length=18443)"
      ]
     },
     "execution_count": 30,
     "metadata": {},
     "output_type": "execute_result"
    }
   ],
   "source": [
    "CRISPRGeneDependency.columns"
   ]
  },
  {
   "cell_type": "code",
   "execution_count": 31,
   "id": "9067381d-43a4-4dc1-846d-40157b3f3cb0",
   "metadata": {},
   "outputs": [],
   "source": [
    "# rename columns\n",
    "CRISPRGeneEffect_new_columns = CRISPRGeneDependency_new_columns = [re.sub(' \\([A-z0-9]+\\)', '', x) for x in  CRISPRGeneEffect.columns.values.astype('str')]\n",
    "assert sum(pd.Series(CRISPRGeneEffect_new_columns).duplicated().values) == 0\n",
    "CRISPRGeneEffect.columns = CRISPRGeneEffect_new_columns"
   ]
  },
  {
   "cell_type": "code",
   "execution_count": 32,
   "id": "afe6ec56-e14d-4b4d-82d5-adf9e13598ed",
   "metadata": {},
   "outputs": [
    {
     "data": {
      "text/plain": [
       "Index(['A1BG', 'A1CF', 'A2M', 'A2ML1', 'A3GALT2', 'A4GALT', 'A4GNT', 'AAAS',\n",
       "       'AACS', 'AADAC',\n",
       "       ...\n",
       "       'ZWILCH', 'ZWINT', 'ZXDA', 'ZXDB', 'ZXDC', 'ZYG11A', 'ZYG11B', 'ZYX',\n",
       "       'ZZEF1', 'ZZZ3'],\n",
       "      dtype='object', length=18443)"
      ]
     },
     "execution_count": 32,
     "metadata": {},
     "output_type": "execute_result"
    }
   ],
   "source": [
    "CRISPRGeneEffect.columns"
   ]
  },
  {
   "cell_type": "code",
   "execution_count": 33,
   "id": "18bdf3da-2721-4d99-9ce6-de46f8c89f4d",
   "metadata": {},
   "outputs": [],
   "source": [
    "CRISPRGeneEffect_mat = CRISPRGeneEffect.values.astype('float64')\n",
    "CRISPRGeneDependency_mat = CRISPRGeneDependency.values.astype('float64')"
   ]
  },
  {
   "cell_type": "code",
   "execution_count": 34,
   "id": "0b2c48b2-2fd0-42ec-a034-bad4c8ff7409",
   "metadata": {},
   "outputs": [
    {
     "data": {
      "text/plain": [
       "True"
      ]
     },
     "execution_count": 34,
     "metadata": {},
     "output_type": "execute_result"
    }
   ],
   "source": [
    "np.any(np.isnan(CRISPRGeneEffect_mat))"
   ]
  },
  {
   "cell_type": "code",
   "execution_count": 35,
   "id": "652fb151-65c6-4206-954b-2118c7f16819",
   "metadata": {},
   "outputs": [
    {
     "data": {
      "text/plain": [
       "739493"
      ]
     },
     "execution_count": 35,
     "metadata": {},
     "output_type": "execute_result"
    }
   ],
   "source": [
    "np.sum(np.isnan(CRISPRGeneEffect_mat))"
   ]
  },
  {
   "cell_type": "code",
   "execution_count": 36,
   "id": "7a849bab-aa5a-44e6-be42-f4ddeb9ba725",
   "metadata": {},
   "outputs": [
    {
     "data": {
      "text/plain": [
       "0.036451030940539156"
      ]
     },
     "execution_count": 36,
     "metadata": {},
     "output_type": "execute_result"
    }
   ],
   "source": [
    "np.sum(np.isnan(CRISPRGeneEffect_mat))/len(CRISPRGeneEffect_mat.flatten())"
   ]
  },
  {
   "cell_type": "code",
   "execution_count": 37,
   "id": "9546bcda-0ca5-4cda-a09e-bd3049909ee5",
   "metadata": {},
   "outputs": [
    {
     "data": {
      "text/plain": [
       "True"
      ]
     },
     "execution_count": 37,
     "metadata": {},
     "output_type": "execute_result"
    }
   ],
   "source": [
    "np.any(np.isnan(CRISPRGeneDependency_mat))"
   ]
  },
  {
   "cell_type": "code",
   "execution_count": 38,
   "id": "94cbc6ab-b692-4c4a-8cc9-9e939971f995",
   "metadata": {},
   "outputs": [
    {
     "data": {
      "text/plain": [
       "739493"
      ]
     },
     "execution_count": 38,
     "metadata": {},
     "output_type": "execute_result"
    }
   ],
   "source": [
    "np.sum(np.isnan(CRISPRGeneDependency_mat))"
   ]
  },
  {
   "cell_type": "code",
   "execution_count": 39,
   "id": "66fc05f3-1cea-4ab9-ae77-2e4f70b2ece7",
   "metadata": {},
   "outputs": [
    {
     "data": {
      "text/plain": [
       "0.036451030940539156"
      ]
     },
     "execution_count": 39,
     "metadata": {},
     "output_type": "execute_result"
    }
   ],
   "source": [
    "np.sum(np.isnan(CRISPRGeneDependency_mat))/len(CRISPRGeneDependency_mat.flatten())"
   ]
  },
  {
   "cell_type": "code",
   "execution_count": 40,
   "id": "6cf6badc-8776-41c6-9774-2a27c7a0ba6b",
   "metadata": {},
   "outputs": [
    {
     "data": {
      "text/plain": [
       "True"
      ]
     },
     "execution_count": 40,
     "metadata": {},
     "output_type": "execute_result"
    }
   ],
   "source": [
    "np.all(np.isnan(CRISPRGeneDependency_mat) == np.isnan(CRISPRGeneEffect_mat))"
   ]
  },
  {
   "cell_type": "code",
   "execution_count": 41,
   "id": "805cf303-f18c-4b37-88a2-262d94ac3b5d",
   "metadata": {},
   "outputs": [
    {
     "data": {
      "text/plain": [
       "False"
      ]
     },
     "execution_count": 41,
     "metadata": {},
     "output_type": "execute_result"
    }
   ],
   "source": [
    "np.any(np.isnan(CRISPRGeneDependency_mat).sum(axis=0) == CRISPRGeneDependency_mat.shape[0])"
   ]
  },
  {
   "cell_type": "code",
   "execution_count": 42,
   "id": "9b70efd0-502e-4508-9880-945a48a2a64d",
   "metadata": {},
   "outputs": [
    {
     "data": {
      "text/plain": [
       "False"
      ]
     },
     "execution_count": 42,
     "metadata": {},
     "output_type": "execute_result"
    }
   ],
   "source": [
    "np.any(np.isnan(CRISPRGeneDependency_mat).sum(axis=1) == CRISPRGeneDependency_mat.shape[1])"
   ]
  },
  {
   "cell_type": "markdown",
   "id": "03b28350-3f44-41ed-8982-2ad71ddc525f",
   "metadata": {},
   "source": [
    "For the sake of getting this done quickly, we'll \"pollute\" the data with imputed values for NaN values. Only impacts 4% of data"
   ]
  },
  {
   "cell_type": "code",
   "execution_count": 43,
   "id": "685f076a-1c98-4276-88f5-6efcd79d3e6a",
   "metadata": {},
   "outputs": [],
   "source": [
    "CRISPRGeneEffect_KNN_imputer = KNNImputer(n_neighbors=5)\n",
    "CRISPRGeneEffect_mat = CRISPRGeneEffect_KNN_imputer.fit_transform(CRISPRGeneEffect_mat)\n",
    "CRISPRGeneDependency_KNN_imputer = KNNImputer(n_neighbors=5)\n",
    "CRISPRGeneDependency_mat = CRISPRGeneDependency_KNN_imputer.fit_transform(CRISPRGeneDependency_mat)"
   ]
  },
  {
   "cell_type": "code",
   "execution_count": 44,
   "id": "4d309f58-b51c-443c-b5e9-2d1c756bb7c9",
   "metadata": {},
   "outputs": [],
   "source": [
    "CRISPRGeneEffect_mat_flat = CRISPRGeneEffect_mat.flatten()\n",
    "CRISPRGeneDependency_mat_flat = CRISPRGeneDependency_mat.flatten()"
   ]
  },
  {
   "cell_type": "code",
   "execution_count": 45,
   "id": "ba746b5c-5a31-4431-bcec-012b1802fbad",
   "metadata": {},
   "outputs": [
    {
     "data": {
      "text/plain": [
       "<matplotlib.axes._subplots.AxesSubplot at 0x7f78af6b4390>"
      ]
     },
     "execution_count": 45,
     "metadata": {},
     "output_type": "execute_result"
    },
    {
     "data": {
      "image/png": "[encoded data removed]",
      "text/plain": [
       "<Figure size 640x480 with 1 Axes>"
      ]
     },
     "metadata": {},
     "output_type": "display_data"
    }
   ],
   "source": [
    "sns.scatterplot(x=CRISPRGeneEffect_mat_flat, y=CRISPRGeneDependency_mat_flat)"
   ]
  },
  {
   "cell_type": "code",
   "execution_count": 46,
   "id": "8cb1d768-9341-4790-b14c-f85f872e5816",
   "metadata": {},
   "outputs": [],
   "source": [
    "CRISPRGeneEffect_imputed = pd.DataFrame(CRISPRGeneEffect_mat, \n",
    "                                        index = CRISPRGeneEffect.index, \n",
    "                                        columns = CRISPRGeneEffect.columns)"
   ]
  },
  {
   "cell_type": "code",
   "execution_count": 47,
   "id": "b41e5d0c-b422-4347-af8e-4237ab46dfff",
   "metadata": {},
   "outputs": [],
   "source": [
    "CRISPRGeneDependency_imputed = pd.DataFrame(CRISPRGeneDependency_mat, \n",
    "                                        index = CRISPRGeneDependency.index, \n",
    "                                        columns = CRISPRGeneDependency.columns)"
   ]
  },
  {
   "cell_type": "markdown",
   "id": "36760bad-1cb5-43ae-9b7e-2fdb5f03d71a",
   "metadata": {},
   "source": [
    "Overall, it appears that scores below about 0.5 have a roughly 80% \"chance\" of being essential for the given cell line x deletion combo"
   ]
  },
  {
   "cell_type": "markdown",
   "id": "0c92be1a-038c-4dfb-94f1-3607a9cc21d4",
   "metadata": {},
   "source": [
    "## Subset for Final Data to Be Used"
   ]
  },
  {
   "cell_type": "markdown",
   "id": "da581229-42cd-4f70-886e-60f7643ef48d",
   "metadata": {},
   "source": [
    "### Subset for Common Samples"
   ]
  },
  {
   "cell_type": "code",
   "execution_count": 48,
   "id": "5f1a9d10-ec88-4688-b0f6-d66351e6f318",
   "metadata": {},
   "outputs": [
    {
     "data": {
      "text/plain": [
       "1021"
      ]
     },
     "execution_count": 48,
     "metadata": {},
     "output_type": "execute_result"
    }
   ],
   "source": [
    "RNA_samples = RNAExpression.index.values.astype('str')\n",
    "CNA_samples = CNAGene.index.values.astype('str')\n",
    "SNV_samples = SNVGene.index.values.astype('str')\n",
    "CRISPR_samples = CRISPRGeneEffect.index.values.astype('str')\n",
    "common_samples = np.intersect1d(RNA_samples, CNA_samples)\n",
    "common_samples = np.intersect1d(common_samples, SNV_samples)\n",
    "common_samples = np.intersect1d(common_samples, CRISPR_samples)\n",
    "len(common_samples)"
   ]
  },
  {
   "cell_type": "code",
   "execution_count": 49,
   "id": "609d769a-f6cd-4662-82e0-08984c0e53d2",
   "metadata": {},
   "outputs": [],
   "source": [
    "RNAExpression = RNAExpression.loc[common_samples, :]\n",
    "# CNAGene = CNAGene.loc[common_samples, :]\n",
    "SNVGene = SNVGene.loc[common_samples, :]\n",
    "CRISPRGeneDependency_imputed = CRISPRGeneDependency_imputed.loc[common_samples, :]\n",
    "CRISPRGeneEffect_imputed = CRISPRGeneEffect_imputed.loc[common_samples, :]"
   ]
  },
  {
   "cell_type": "markdown",
   "id": "aa791f22-c634-46e4-9a78-a6ab85228ff8",
   "metadata": {},
   "source": [
    "### Get Variably Essential Genes for CRISPR"
   ]
  },
  {
   "cell_type": "code",
   "execution_count": 50,
   "id": "a101aa84-ed85-4925-b6c8-bcc939cccfd8",
   "metadata": {},
   "outputs": [
    {
     "data": {
      "text/plain": [
       "<seaborn.axisgrid.FacetGrid at 0x7f78b6b0dd10>"
      ]
     },
     "execution_count": 50,
     "metadata": {},
     "output_type": "execute_result"
    },
    {
     "data": {
      "image/png": "[encoded data removed]",
      "text/plain": [
       "<Figure size 500x500 with 1 Axes>"
      ]
     },
     "metadata": {},
     "output_type": "display_data"
    }
   ],
   "source": [
    "CRISPRGeneDependency_mat_bin = (CRISPRGeneDependency_imputed.values.astype('float64') > 0.5).astype('int32')\n",
    "prop_essential = CRISPRGeneDependency_mat_bin.sum(axis=0)/CRISPRGeneDependency_mat_bin.shape[0]\n",
    "sns.displot(prop_essential)"
   ]
  },
  {
   "cell_type": "code",
   "execution_count": 51,
   "id": "f86b1be8-d39a-4e5c-aa04-7ff34a918d71",
   "metadata": {},
   "outputs": [
    {
     "data": {
      "text/plain": [
       "1829"
      ]
     },
     "execution_count": 51,
     "metadata": {},
     "output_type": "execute_result"
    }
   ],
   "source": [
    "# for simplicity's sake, let's take genes that are essential in 10-90% of cell lines\n",
    "CRISPR_genes_variable = np.logical_and(prop_essential > 0.10, prop_essential < 0.90)\n",
    "sum(CRISPR_genes_variable)"
   ]
  },
  {
   "cell_type": "markdown",
   "id": "8d758bf9-c0b4-46b3-9773-f85ee0ceb04e",
   "metadata": {},
   "source": [
    "### Get CRISPR Genes in Adjacency Matrix"
   ]
  },
  {
   "cell_type": "code",
   "execution_count": 52,
   "id": "d6f2cca0-a646-4f63-a347-0bd998c836f9",
   "metadata": {},
   "outputs": [],
   "source": [
    "adj_mat_dir = os.path.join(top_dir, 'data/preproc/intact_proc_diffused')\n",
    "A_df = pd.read_csv(os.path.join(adj_mat_dir, 'A_random_walk_2_step.csv'), index_col=0)"
   ]
  },
  {
   "cell_type": "code",
   "execution_count": 53,
   "id": "7fe7b541-8a08-40be-94d6-c422eb6f9ad8",
   "metadata": {},
   "outputs": [],
   "source": [
    "nodes = A_df.index"
   ]
  },
  {
   "cell_type": "code",
   "execution_count": 54,
   "id": "8983998c-e873-4bdb-90a4-18ebeb6be58d",
   "metadata": {},
   "outputs": [
    {
     "data": {
      "text/plain": [
       "Index(['SYNJ1', 'AMPH', 'SH3GL1', 'DNM1', 'FHL2', 'FHL3', 'EPS15', 'MCM7',\n",
       "       'AR', 'ABI1',\n",
       "       ...\n",
       "       'CALM3', 'SFT2D3', 'SLC16A2', 'H19', 'OSBPL7', 'PDE6A', 'SCN9A',\n",
       "       'SLC38A8', 'MIR146A', 'MIR338'],\n",
       "      dtype='object', length=15993)"
      ]
     },
     "execution_count": 54,
     "metadata": {},
     "output_type": "execute_result"
    }
   ],
   "source": [
    "nodes"
   ]
  },
  {
   "cell_type": "code",
   "execution_count": 55,
   "id": "52191c7b-e2b7-4785-9ea2-419f7cec4a21",
   "metadata": {},
   "outputs": [],
   "source": [
    "CRISPR_genes_w_ppi = np.in1d(CRISPRGeneEffect_imputed.columns.values.astype('str'), nodes.values.astype('str'))"
   ]
  },
  {
   "cell_type": "markdown",
   "id": "816a8022-5983-4f4b-8426-0465b6e0eb02",
   "metadata": {},
   "source": [
    "### Subset CRISPR Genes"
   ]
  },
  {
   "cell_type": "code",
   "execution_count": 56,
   "id": "ba52ed30-8497-4ea3-bacc-cb4e357bbc3c",
   "metadata": {},
   "outputs": [],
   "source": [
    "CRISPR_genes_keep = CRISPRGeneEffect_imputed.columns.values.astype('str')[np.logical_and(CRISPR_genes_w_ppi, CRISPR_genes_variable)]\n",
    "CRISPRGeneEffect_proc = CRISPRGeneEffect_imputed.loc[:, CRISPR_genes_keep]\n",
    "CRISPRGeneDependency_proc = CRISPRGeneDependency_imputed.loc[:, CRISPR_genes_keep]"
   ]
  },
  {
   "cell_type": "code",
   "execution_count": 57,
   "id": "4642e5ed-9922-4af3-873d-fb60b9d74e92",
   "metadata": {},
   "outputs": [
    {
     "data": {
      "text/plain": [
       "(1021, 1690)"
      ]
     },
     "execution_count": 57,
     "metadata": {},
     "output_type": "execute_result"
    }
   ],
   "source": [
    "CRISPRGeneEffect_proc.shape"
   ]
  },
  {
   "cell_type": "code",
   "execution_count": 58,
   "id": "40d5fc59-5a43-4f2c-9a3c-0cf18374736c",
   "metadata": {},
   "outputs": [],
   "source": [
    "A_df_subs = A_df.loc[CRISPR_genes_keep, :]"
   ]
  },
  {
   "cell_type": "code",
   "execution_count": 59,
   "id": "70bc80c3-d947-47bb-98d3-113c8f9c6336",
   "metadata": {},
   "outputs": [
    {
     "data": {
      "text/plain": [
       "47"
      ]
     },
     "execution_count": 59,
     "metadata": {},
     "output_type": "execute_result"
    }
   ],
   "source": [
    "np.sum(A_df_subs.to_numpy().astype('float32').sum(axis=0) == 0.)"
   ]
  },
  {
   "cell_type": "code",
   "execution_count": 60,
   "id": "428cc5f5-a2b6-41d6-a094-f760b0ae2ffa",
   "metadata": {},
   "outputs": [],
   "source": [
    "CRISPR_ppis_keep = A_df_subs.to_numpy().astype('float32').sum(axis=0) != 0\n",
    "A_df_subs = A_df_subs.iloc[:, CRISPR_ppis_keep]"
   ]
  },
  {
   "cell_type": "code",
   "execution_count": 61,
   "id": "2fe6bb65-7fa1-47ef-85b4-1f86ca776d48",
   "metadata": {},
   "outputs": [
    {
     "data": {
      "text/plain": [
       "(1690, 15946)"
      ]
     },
     "execution_count": 61,
     "metadata": {},
     "output_type": "execute_result"
    }
   ],
   "source": [
    "A_df_subs.shape"
   ]
  },
  {
   "cell_type": "code",
   "execution_count": 62,
   "id": "11e1bc72-10f2-4a89-91de-c34fcd85af3b",
   "metadata": {},
   "outputs": [
    {
     "data": {
      "text/plain": [
       "<matplotlib.axes._subplots.AxesSubplot at 0x7f78b2b1cf50>"
      ]
     },
     "execution_count": 62,
     "metadata": {},
     "output_type": "execute_result"
    },
    {
     "data": {
      "image/png": "[encoded data removed]",
      "text/plain": [
       "<Figure size 640x480 with 1 Axes>"
      ]
     },
     "metadata": {},
     "output_type": "display_data"
    }
   ],
   "source": [
    "sns.histplot(A_df_subs.to_numpy().astype('float32').sum(axis=0)/A_df_subs.shape[0])"
   ]
  },
  {
   "cell_type": "code",
   "execution_count": 63,
   "id": "3f247588-62c7-4132-a444-05b9cd5ed611",
   "metadata": {},
   "outputs": [
    {
     "data": {
      "text/plain": [
       "1.4534884e-05"
      ]
     },
     "execution_count": 63,
     "metadata": {},
     "output_type": "execute_result"
    }
   ],
   "source": [
    "A_df_subs.to_numpy().astype('float32').sum(axis=0).min()"
   ]
  },
  {
   "cell_type": "code",
   "execution_count": 64,
   "id": "feefce1a-7f55-423c-9caf-16b565122d4d",
   "metadata": {},
   "outputs": [
    {
     "data": {
      "text/plain": [
       "array([1.12374167e-06, 6.18905733e-06, 2.14217716e-05, 7.63983080e-05,\n",
       "       2.32859951e-04, 5.33588912e-04])"
      ]
     },
     "execution_count": 64,
     "metadata": {},
     "output_type": "execute_result"
    }
   ],
   "source": [
    "# This is the average probability of going from a CRISPR gene (row) to another gene (column)\n",
    "np.quantile(A_df_subs.to_numpy().astype('float32').sum(axis=0)/A_df_subs.shape[0], [0.05, 0.25, 0.5, 0.75, 0.95, 0.99])"
   ]
  },
  {
   "cell_type": "code",
   "execution_count": 65,
   "id": "26869189-9d5d-4d05-ba58-171ec0d23132",
   "metadata": {},
   "outputs": [
    {
     "data": {
      "text/plain": [
       "4498"
      ]
     },
     "execution_count": 65,
     "metadata": {},
     "output_type": "execute_result"
    }
   ],
   "source": [
    "(A_df_subs.to_numpy().astype('float32') > 0.05).sum()"
   ]
  },
  {
   "cell_type": "code",
   "execution_count": 66,
   "id": "c0f675b4-b7b2-44ba-a902-0a67ab6b7b06",
   "metadata": {},
   "outputs": [
    {
     "data": {
      "text/plain": [
       "array([6.27111545e-05, 6.27114860e-05, 6.27116533e-05, 6.27118334e-05,\n",
       "       6.27121190e-05])"
      ]
     },
     "execution_count": 66,
     "metadata": {},
     "output_type": "execute_result"
    }
   ],
   "source": [
    "# This is the average row-wise transition probability\n",
    "np.quantile(A_df_subs.to_numpy().astype('float32').sum(axis=1)/A_df_subs.shape[1], [0.05, 0.25, 0.5, 0.75, 0.95])"
   ]
  },
  {
   "cell_type": "markdown",
   "id": "ceb088d8-cc65-4544-89ab-fc160f7d234f",
   "metadata": {},
   "source": [
    "### Create Train and Test Indices for Sample x Gene Deletion Pairs"
   ]
  },
  {
   "cell_type": "code",
   "execution_count": 67,
   "id": "5c14f06e-0e53-4f7f-975d-598a4cc20ee1",
   "metadata": {},
   "outputs": [],
   "source": [
    "all_pairs = []\n",
    "for i in range(CRISPRGeneEffect_proc.shape[0]):\n",
    "    for j in range(CRISPRGeneEffect_proc.shape[1]):\n",
    "        all_pairs.append([i, j])\n",
    "all_pairs_arr = np.array(all_pairs)"
   ]
  },
  {
   "cell_type": "code",
   "execution_count": 68,
   "id": "2507794c-b009-456d-9cc6-37f4056eec80",
   "metadata": {},
   "outputs": [
    {
     "data": {
      "text/plain": [
       "array([[ 0,  0],\n",
       "       [ 0,  1],\n",
       "       [ 0,  2],\n",
       "       [ 0,  3],\n",
       "       [ 0,  4],\n",
       "       [ 0,  5],\n",
       "       [ 0,  6],\n",
       "       [ 0,  7],\n",
       "       [ 0,  8],\n",
       "       [ 0,  9],\n",
       "       [ 0, 10],\n",
       "       [ 0, 11],\n",
       "       [ 0, 12],\n",
       "       [ 0, 13],\n",
       "       [ 0, 14],\n",
       "       [ 0, 15],\n",
       "       [ 0, 16],\n",
       "       [ 0, 17],\n",
       "       [ 0, 18],\n",
       "       [ 0, 19]])"
      ]
     },
     "execution_count": 68,
     "metadata": {},
     "output_type": "execute_result"
    }
   ],
   "source": [
    "all_pairs_arr[0:20]"
   ]
  },
  {
   "cell_type": "code",
   "execution_count": 69,
   "id": "bb18c4d2-2c9f-4624-87fc-88db9771ae66",
   "metadata": {},
   "outputs": [],
   "source": [
    "train_idx, test_idx = train_test_split(all_pairs_arr, test_size=0.25, random_state=42, shuffle=True)"
   ]
  },
  {
   "cell_type": "code",
   "execution_count": 70,
   "id": "f7e1421e-b635-475d-8abc-bba7f26224c9",
   "metadata": {},
   "outputs": [
    {
     "data": {
      "text/plain": [
       "array([[ 687, 1521],\n",
       "       [ 644,  470],\n",
       "       [ 970,  732],\n",
       "       [ 377, 1209],\n",
       "       [ 188, 1401],\n",
       "       [ 744, 1296],\n",
       "       [ 310, 1354],\n",
       "       [ 374, 1497],\n",
       "       [ 338, 1367],\n",
       "       [ 626, 1060],\n",
       "       [ 289, 1596],\n",
       "       [ 169, 1393],\n",
       "       [ 490, 1157],\n",
       "       [ 613,  148],\n",
       "       [  53,  547],\n",
       "       [ 134, 1668],\n",
       "       [ 115,  677],\n",
       "       [ 338, 1587],\n",
       "       [ 924,  829],\n",
       "       [ 513,  493]])"
      ]
     },
     "execution_count": 70,
     "metadata": {},
     "output_type": "execute_result"
    }
   ],
   "source": [
    "train_idx[0:20]"
   ]
  },
  {
   "cell_type": "code",
   "execution_count": 71,
   "id": "9e35dc5a-ac75-4ed0-a6ea-56cd23fd7be7",
   "metadata": {},
   "outputs": [
    {
     "data": {
      "text/plain": [
       "1294117"
      ]
     },
     "execution_count": 71,
     "metadata": {},
     "output_type": "execute_result"
    }
   ],
   "source": [
    "len(train_idx)"
   ]
  },
  {
   "cell_type": "code",
   "execution_count": 72,
   "id": "17313e7d-6700-462b-99fe-44481c671413",
   "metadata": {},
   "outputs": [
    {
     "data": {
      "text/plain": [
       "array([[ 273, 1078],\n",
       "       [ 366, 1165],\n",
       "       [ 321,  740],\n",
       "       [  58,  470],\n",
       "       [ 443, 1670],\n",
       "       [ 525,  103],\n",
       "       [ 491,  752],\n",
       "       [ 806,   60],\n",
       "       [ 772,  404],\n",
       "       [ 415,  717],\n",
       "       [ 856,   39],\n",
       "       [ 269,  816],\n",
       "       [ 609, 1020],\n",
       "       [ 795,  918],\n",
       "       [ 877, 1149],\n",
       "       [ 172, 1334],\n",
       "       [ 882,  405],\n",
       "       [ 649,  576],\n",
       "       [ 883, 1409],\n",
       "       [ 285, 1030]])"
      ]
     },
     "execution_count": 72,
     "metadata": {},
     "output_type": "execute_result"
    }
   ],
   "source": [
    "test_idx[0:20]"
   ]
  },
  {
   "cell_type": "code",
   "execution_count": 73,
   "id": "47b2fc4a-4728-4d4b-a22a-a82fedac6f58",
   "metadata": {},
   "outputs": [
    {
     "data": {
      "text/plain": [
       "431373"
      ]
     },
     "execution_count": 73,
     "metadata": {},
     "output_type": "execute_result"
    }
   ],
   "source": [
    "len(test_idx)"
   ]
  },
  {
   "cell_type": "markdown",
   "id": "1acbd0f8-7f87-470c-9fe1-8de57e636466",
   "metadata": {},
   "source": [
    "### Save Data"
   ]
  },
  {
   "cell_type": "code",
   "execution_count": 74,
   "id": "0fa5cc66-dda5-4cc4-a82a-818366bfcf8b",
   "metadata": {},
   "outputs": [],
   "source": [
    "np.savetxt(os.path.join(output_dir, 'train_idx.csv'), train_idx, delimiter=',')\n",
    "np.savetxt(os.path.join(output_dir, 'test_idx.csv'), test_idx, delimiter=',')\n",
    "# RNAExpression.to_csv(os.path.join(output_dir, 'RNAExpression.csv'))\n",
    "# CNAGene.to_csv(os.path.join(output_dir, 'CNAGene.csv'))\n",
    "# SNVGene.to_csv(os.path.join(output_dir, 'SNVGene.csv'))\n",
    "# CRISPRGeneEffect_proc.to_csv(os.path.join(output_dir, 'CRISPRGeneEffect.csv'))\n",
    "# CRISPRGeneDependency_proc.to_csv(os.path.join(output_dir, 'CRISPRGeneDependency_proc.csv'))\n",
    "# A_df_subs.to_csv(os.path.join(output_dir, 'CRISPR_ppis_diffused.csv'))\n",
    "np.savetxt(os.path.join(output_dir, 'common_samples.csv'), common_samples.reshape((common_samples.shape[0], 1)), delimiter=',', fmt='%s')"
   ]
  },
  {
   "cell_type": "code",
   "execution_count": 75,
   "id": "e80f23ab-4e91-4bd1-a164-af91af9b3cea",
   "metadata": {},
   "outputs": [
    {
     "data": {
      "text/plain": [
       "82"
      ]
     },
     "execution_count": 75,
     "metadata": {},
     "output_type": "execute_result"
    }
   ],
   "source": [
    "X_RNA_feats = RNAExpression.columns.values.astype('str')\n",
    "X_RNA = RNAExpression.to_numpy().astype('float32')\n",
    "np.savetxt(os.path.join(output_dir, 'X_RNA_feats.csv'), X_RNA_feats.reshape((X_RNA_feats.shape[0],1)), delimiter=',', fmt='%s')\n",
    "np.savetxt(os.path.join(output_dir, 'X_RNA.csv'), X_RNA, delimiter=',')\n",
    "del RNAExpression\n",
    "del X_RNA\n",
    "del X_RNA_feats\n",
    "gc.collect()"
   ]
  },
  {
   "cell_type": "code",
   "execution_count": 76,
   "id": "43c31d53-8a6b-4a8d-b150-48c353c30e32",
   "metadata": {},
   "outputs": [
    {
     "data": {
      "text/plain": [
       "47"
      ]
     },
     "execution_count": 76,
     "metadata": {},
     "output_type": "execute_result"
    }
   ],
   "source": [
    "X_CNA_feats = CNAGene.columns.values.astype('str')\n",
    "X_CNA = CNAGene.to_numpy().astype('float32')\n",
    "np.savetxt(os.path.join(output_dir, 'X_CNA_feats.csv'), X_CNA_feats.reshape((X_CNA_feats.shape[0],1)), delimiter=',', fmt='%s')\n",
    "np.savetxt(os.path.join(output_dir, 'X_CNA.csv'), X_CNA, delimiter=',')\n",
    "del CNAGene\n",
    "del X_CNA\n",
    "del X_CNA_feats\n",
    "gc.collect()"
   ]
  },
  {
   "cell_type": "code",
   "execution_count": 77,
   "id": "3c75d4d6-cef3-45f3-bb02-b0a15fc880f2",
   "metadata": {},
   "outputs": [
    {
     "data": {
      "text/plain": [
       "47"
      ]
     },
     "execution_count": 77,
     "metadata": {},
     "output_type": "execute_result"
    }
   ],
   "source": [
    "X_SNV_feats = SNVGene.columns.values.astype('str')\n",
    "X_SNV = SNVGene.to_numpy().astype('float32')\n",
    "np.savetxt(os.path.join(output_dir, 'X_SNV_feats.csv'), X_SNV_feats.reshape((X_SNV_feats.shape[0],1)), delimiter=',', fmt='%s')\n",
    "np.savetxt(os.path.join(output_dir, 'X_SNV.csv'), X_SNV, delimiter=',')\n",
    "del SNVGene\n",
    "del X_SNV\n",
    "del X_SNV_feats\n",
    "gc.collect()"
   ]
  },
  {
   "cell_type": "code",
   "execution_count": 78,
   "id": "e920fdf8-a4d5-4ba0-9c9b-7997c5509637",
   "metadata": {},
   "outputs": [
    {
     "data": {
      "text/plain": [
       "47"
      ]
     },
     "execution_count": 78,
     "metadata": {},
     "output_type": "execute_result"
    }
   ],
   "source": [
    "X_CRISPRGeneEffect_feats = CRISPRGeneEffect_proc.columns.values.astype('str')\n",
    "X_CRISPRGeneEffect = CRISPRGeneEffect_proc.to_numpy().astype('float32')\n",
    "np.savetxt(os.path.join(output_dir, 'X_CRISPRGeneEffect_feats.csv'), X_CRISPRGeneEffect_feats.reshape((X_CRISPRGeneEffect_feats.shape[0],1)), delimiter=',', fmt='%s')\n",
    "np.savetxt(os.path.join(output_dir, 'X_CRISPRGeneEffect.csv'), X_CRISPRGeneEffect, delimiter=',')\n",
    "del CRISPRGeneEffect_proc\n",
    "del CRISPRGeneEffect\n",
    "del X_CRISPRGeneEffect\n",
    "del X_CRISPRGeneEffect_feats\n",
    "gc.collect()"
   ]
  },
  {
   "cell_type": "code",
   "execution_count": 79,
   "id": "0fa6b374-2092-492e-b4cb-6e140ef3aece",
   "metadata": {},
   "outputs": [
    {
     "data": {
      "text/plain": [
       "47"
      ]
     },
     "execution_count": 79,
     "metadata": {},
     "output_type": "execute_result"
    }
   ],
   "source": [
    "X_CRISPRGeneDependency_feats = CRISPRGeneDependency_proc.columns.values.astype('str')\n",
    "X_CRISPRGeneDependency = CRISPRGeneDependency_proc.to_numpy().astype('float32')\n",
    "np.savetxt(os.path.join(output_dir, 'X_CRISPRGeneDependency_feats.csv'), X_CRISPRGeneDependency_feats.reshape((X_CRISPRGeneDependency_feats.shape[0],1)), delimiter=',', fmt='%s')\n",
    "np.savetxt(os.path.join(output_dir, 'X_CRISPRGeneDependency.csv'), X_CRISPRGeneDependency, delimiter=',')\n",
    "del CRISPRGeneDependency_proc\n",
    "del CRISPRGeneDependency\n",
    "del X_CRISPRGeneDependency\n",
    "del X_CRISPRGeneDependency_feats\n",
    "gc.collect()"
   ]
  },
  {
   "cell_type": "code",
   "execution_count": 80,
   "id": "ad230bfe-4e2b-4c79-8a43-7fa267bca6f7",
   "metadata": {},
   "outputs": [
    {
     "ename": "TypeError",
     "evalue": "Mismatch between array dtype ('<U10') and format specifier ('%.18e')",
     "output_type": "error",
     "traceback": [
      "\u001b[0;31m---------------------------------------------------------------------------\u001b[0m",
      "\u001b[0;31mTypeError\u001b[0m                                 Traceback (most recent call last)",
      "\u001b[0;32m~/miniforge3/envs/pytorch3drugcell/lib/python3.7/site-packages/numpy/lib/npyio.py\u001b[0m in \u001b[0;36msavetxt\u001b[0;34m(fname, X, fmt, delimiter, newline, header, footer, comments, encoding)\u001b[0m\n\u001b[1;32m   1433\u001b[0m                 \u001b[0;32mtry\u001b[0m\u001b[0;34m:\u001b[0m\u001b[0;34m\u001b[0m\u001b[0;34m\u001b[0m\u001b[0m\n\u001b[0;32m-> 1434\u001b[0;31m                     \u001b[0mv\u001b[0m \u001b[0;34m=\u001b[0m \u001b[0mformat\u001b[0m \u001b[0;34m%\u001b[0m \u001b[0mtuple\u001b[0m\u001b[0;34m(\u001b[0m\u001b[0mrow\u001b[0m\u001b[0;34m)\u001b[0m \u001b[0;34m+\u001b[0m \u001b[0mnewline\u001b[0m\u001b[0;34m\u001b[0m\u001b[0;34m\u001b[0m\u001b[0m\n\u001b[0m\u001b[1;32m   1435\u001b[0m                 \u001b[0;32mexcept\u001b[0m \u001b[0mTypeError\u001b[0m\u001b[0;34m:\u001b[0m\u001b[0;34m\u001b[0m\u001b[0;34m\u001b[0m\u001b[0m\n",
      "\u001b[0;31mTypeError\u001b[0m: must be real number, not numpy.str_",
      "\nDuring handling of the above exception, another exception occurred:\n",
      "\u001b[0;31mTypeError\u001b[0m                                 Traceback (most recent call last)",
      "\u001b[0;32m/tmp/ipykernel_22804/1803125190.py\u001b[0m in \u001b[0;36m<module>\u001b[0;34m\u001b[0m\n\u001b[1;32m      5\u001b[0m \u001b[0mgc\u001b[0m\u001b[0;34m.\u001b[0m\u001b[0mcollect\u001b[0m\u001b[0;34m(\u001b[0m\u001b[0;34m)\u001b[0m\u001b[0;34m\u001b[0m\u001b[0;34m\u001b[0m\u001b[0m\n\u001b[1;32m      6\u001b[0m \u001b[0mnp\u001b[0m\u001b[0;34m.\u001b[0m\u001b[0msavetxt\u001b[0m\u001b[0;34m(\u001b[0m\u001b[0mos\u001b[0m\u001b[0;34m.\u001b[0m\u001b[0mpath\u001b[0m\u001b[0;34m.\u001b[0m\u001b[0mjoin\u001b[0m\u001b[0;34m(\u001b[0m\u001b[0moutput_dir\u001b[0m\u001b[0;34m,\u001b[0m \u001b[0;34m'X_ppi.csv'\u001b[0m\u001b[0;34m)\u001b[0m\u001b[0;34m,\u001b[0m \u001b[0mX_ppi\u001b[0m\u001b[0;34m,\u001b[0m \u001b[0mdelimiter\u001b[0m\u001b[0;34m=\u001b[0m\u001b[0;34m','\u001b[0m\u001b[0;34m)\u001b[0m\u001b[0;34m\u001b[0m\u001b[0;34m\u001b[0m\u001b[0m\n\u001b[0;32m----> 7\u001b[0;31m \u001b[0mnp\u001b[0m\u001b[0;34m.\u001b[0m\u001b[0msavetxt\u001b[0m\u001b[0;34m(\u001b[0m\u001b[0mos\u001b[0m\u001b[0;34m.\u001b[0m\u001b[0mpath\u001b[0m\u001b[0;34m.\u001b[0m\u001b[0mjoin\u001b[0m\u001b[0;34m(\u001b[0m\u001b[0moutput_dir\u001b[0m\u001b[0;34m,\u001b[0m \u001b[0;34m'X_ppi_rows.csv'\u001b[0m\u001b[0;34m)\u001b[0m\u001b[0;34m,\u001b[0m \u001b[0mX_ppi_rows\u001b[0m\u001b[0;34m.\u001b[0m\u001b[0mreshape\u001b[0m\u001b[0;34m(\u001b[0m\u001b[0;34m(\u001b[0m\u001b[0mX_ppi_rows\u001b[0m\u001b[0;34m.\u001b[0m\u001b[0mshape\u001b[0m\u001b[0;34m[\u001b[0m\u001b[0;36m0\u001b[0m\u001b[0;34m]\u001b[0m\u001b[0;34m,\u001b[0m \u001b[0;36m1\u001b[0m\u001b[0;34m)\u001b[0m\u001b[0;34m)\u001b[0m\u001b[0;34m,\u001b[0m \u001b[0mdelimiter\u001b[0m\u001b[0;34m=\u001b[0m\u001b[0;34m','\u001b[0m\u001b[0;34m)\u001b[0m\u001b[0;34m\u001b[0m\u001b[0;34m\u001b[0m\u001b[0m\n\u001b[0m\u001b[1;32m      8\u001b[0m \u001b[0mnp\u001b[0m\u001b[0;34m.\u001b[0m\u001b[0msavetxt\u001b[0m\u001b[0;34m(\u001b[0m\u001b[0mos\u001b[0m\u001b[0;34m.\u001b[0m\u001b[0mpath\u001b[0m\u001b[0;34m.\u001b[0m\u001b[0mjoin\u001b[0m\u001b[0;34m(\u001b[0m\u001b[0moutput_dir\u001b[0m\u001b[0;34m,\u001b[0m \u001b[0;34m'X_ppi_columns.csv'\u001b[0m\u001b[0;34m)\u001b[0m\u001b[0;34m,\u001b[0m \u001b[0mX_ppi_columns\u001b[0m\u001b[0;34m.\u001b[0m\u001b[0mreshape\u001b[0m\u001b[0;34m(\u001b[0m\u001b[0;34m(\u001b[0m\u001b[0mX_ppi_cols\u001b[0m\u001b[0;34m.\u001b[0m\u001b[0mshape\u001b[0m\u001b[0;34m[\u001b[0m\u001b[0;36m0\u001b[0m\u001b[0;34m]\u001b[0m\u001b[0;34m,\u001b[0m \u001b[0;36m1\u001b[0m\u001b[0;34m)\u001b[0m\u001b[0;34m)\u001b[0m\u001b[0;34m,\u001b[0m \u001b[0mdelimiter\u001b[0m\u001b[0;34m=\u001b[0m\u001b[0;34m','\u001b[0m\u001b[0;34m)\u001b[0m\u001b[0;34m\u001b[0m\u001b[0;34m\u001b[0m\u001b[0m\n",
      "\u001b[0;32m<__array_function__ internals>\u001b[0m in \u001b[0;36msavetxt\u001b[0;34m(*args, **kwargs)\u001b[0m\n",
      "\u001b[0;32m~/miniforge3/envs/pytorch3drugcell/lib/python3.7/site-packages/numpy/lib/npyio.py\u001b[0m in \u001b[0;36msavetxt\u001b[0;34m(fname, X, fmt, delimiter, newline, header, footer, comments, encoding)\u001b[0m\n\u001b[1;32m   1436\u001b[0m                     raise TypeError(\"Mismatch between array dtype ('%s') and \"\n\u001b[1;32m   1437\u001b[0m                                     \u001b[0;34m\"format specifier ('%s')\"\u001b[0m\u001b[0;34m\u001b[0m\u001b[0;34m\u001b[0m\u001b[0m\n\u001b[0;32m-> 1438\u001b[0;31m                                     % (str(X.dtype), format))\n\u001b[0m\u001b[1;32m   1439\u001b[0m                 \u001b[0mfh\u001b[0m\u001b[0;34m.\u001b[0m\u001b[0mwrite\u001b[0m\u001b[0;34m(\u001b[0m\u001b[0mv\u001b[0m\u001b[0;34m)\u001b[0m\u001b[0;34m\u001b[0m\u001b[0;34m\u001b[0m\u001b[0m\n\u001b[1;32m   1440\u001b[0m \u001b[0;34m\u001b[0m\u001b[0m\n",
      "\u001b[0;31mTypeError\u001b[0m: Mismatch between array dtype ('<U10') and format specifier ('%.18e')"
     ]
    }
   ],
   "source": [
    "X_ppi_rows = A_df_subs.index.values.astype('str')\n",
    "X_ppi_cols = A_df_subs.columns.values.astype('str')\n",
    "X_ppi = A_df_subs.to_numpy().astype('float32')\n",
    "del A_df_subs\n",
    "gc.collect()"
   ]
  },
  {
   "cell_type": "code",
   "execution_count": 84,
   "id": "0354e04f-92f1-4ec2-a400-492fa369171d",
   "metadata": {},
   "outputs": [],
   "source": [
    "np.savetxt(os.path.join(output_dir, 'X_ppi.csv'), X_ppi, delimiter=',')\n",
    "np.savetxt(os.path.join(output_dir, 'X_ppi_rows.csv'), X_ppi_rows.reshape((X_ppi_rows.shape[0], 1)), delimiter=',', fmt='%s')\n",
    "np.savetxt(os.path.join(output_dir, 'X_ppi_columns.csv'), X_ppi_cols.reshape((X_ppi_cols.shape[0], 1)), delimiter=',', fmt='%s')"
   ]
  },
  {
   "cell_type": "code",
   "execution_count": null,
   "id": "5cbebd50-9743-4de4-8cdb-3cd201fa542b",
   "metadata": {},
   "outputs": [],
   "source": []
  }
 ],
 "metadata": {
  "kernelspec": {
   "display_name": "pytorch3drugcell",
   "language": "python",
   "name": "pytorch3drugcell"
  },
  "language_info": {
   "codemirror_mode": {
    "name": "ipython",
    "version": 3
   },
   "file_extension": ".py",
   "mimetype": "text/x-python",
   "name": "python",
   "nbconvert_exporter": "python",
   "pygments_lexer": "ipython3",
   "version": "3.7.4"
  }
 },
 "nbformat": 4,
 "nbformat_minor": 5
}
