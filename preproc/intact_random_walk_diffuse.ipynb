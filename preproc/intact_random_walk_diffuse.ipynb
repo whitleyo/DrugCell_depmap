{
 "cells": [
  {
   "cell_type": "markdown",
   "id": "6f2586f5-1b85-4ecd-891a-30e7730d5779",
   "metadata": {},
   "source": [
    "# Run Graph Diffusion on PPI Network"
   ]
  },
  {
   "cell_type": "code",
   "execution_count": 1,
   "id": "4b705c37-e785-440c-81c7-d16e6a0938bc",
   "metadata": {},
   "outputs": [],
   "source": [
    "import os\n",
    "import pickle as pk\n",
    "import gc\n",
    "\n",
    "import re\n",
    "import networkx as nx\n",
    "from scipy import sparse, linalg\n",
    "import numpy as np\n",
    "import pandas as pd\n",
    "\n",
    "import seaborn as sns"
   ]
  },
  {
   "cell_type": "code",
   "execution_count": 2,
   "id": "cbea2551-dd0d-40e5-aab8-7f462c1a0b10",
   "metadata": {},
   "outputs": [],
   "source": [
    "top_dir = '../'\n",
    "inp_dir = os.path.join(top_dir, 'data/preproc/intact_proc')\n",
    "output_dir = os.path.join(top_dir, 'data/preproc/intact_proc_diffused')\n",
    "if not os.path.exists(output_dir):\n",
    "    os.mkdir(output_dir)"
   ]
  },
  {
   "cell_type": "code",
   "execution_count": 3,
   "id": "c18b581b-61a2-4759-9407-8b464720a21a",
   "metadata": {},
   "outputs": [],
   "source": [
    "A_df = pd.read_csv(os.path.join(inp_dir, 'A.csv'), index_col=0)"
   ]
  },
  {
   "cell_type": "code",
   "execution_count": 4,
   "id": "94e8b612-db90-4da4-b2c8-d82284a6cdf6",
   "metadata": {},
   "outputs": [
    {
     "data": {
      "text/html": [
       "<div>\n",
       "<style scoped>\n",
       "    .dataframe tbody tr th:only-of-type {\n",
       "        vertical-align: middle;\n",
       "    }\n",
       "\n",
       "    .dataframe tbody tr th {\n",
       "        vertical-align: top;\n",
       "    }\n",
       "\n",
       "    .dataframe thead th {\n",
       "        text-align: right;\n",
       "    }\n",
       "</style>\n",
       "<table border=\"1\" class=\"dataframe\">\n",
       "  <thead>\n",
       "    <tr style=\"text-align: right;\">\n",
       "      <th></th>\n",
       "      <th>SYNJ1</th>\n",
       "      <th>AMPH</th>\n",
       "      <th>SH3GL1</th>\n",
       "      <th>DNM1</th>\n",
       "      <th>FHL2</th>\n",
       "      <th>FHL3</th>\n",
       "      <th>EPS15</th>\n",
       "      <th>MCM7</th>\n",
       "      <th>AR</th>\n",
       "      <th>ABI1</th>\n",
       "      <th>...</th>\n",
       "      <th>CALM3</th>\n",
       "      <th>SFT2D3</th>\n",
       "      <th>SLC16A2</th>\n",
       "      <th>H19</th>\n",
       "      <th>OSBPL7</th>\n",
       "      <th>PDE6A</th>\n",
       "      <th>SCN9A</th>\n",
       "      <th>SLC38A8</th>\n",
       "      <th>MIR146A</th>\n",
       "      <th>MIR338</th>\n",
       "    </tr>\n",
       "  </thead>\n",
       "  <tbody>\n",
       "    <tr>\n",
       "      <th>SYNJ1</th>\n",
       "      <td>0</td>\n",
       "      <td>1</td>\n",
       "      <td>1</td>\n",
       "      <td>0</td>\n",
       "      <td>0</td>\n",
       "      <td>0</td>\n",
       "      <td>0</td>\n",
       "      <td>0</td>\n",
       "      <td>0</td>\n",
       "      <td>0</td>\n",
       "      <td>...</td>\n",
       "      <td>0</td>\n",
       "      <td>0</td>\n",
       "      <td>0</td>\n",
       "      <td>0</td>\n",
       "      <td>0</td>\n",
       "      <td>0</td>\n",
       "      <td>0</td>\n",
       "      <td>0</td>\n",
       "      <td>0</td>\n",
       "      <td>0</td>\n",
       "    </tr>\n",
       "    <tr>\n",
       "      <th>AMPH</th>\n",
       "      <td>1</td>\n",
       "      <td>1</td>\n",
       "      <td>0</td>\n",
       "      <td>1</td>\n",
       "      <td>0</td>\n",
       "      <td>0</td>\n",
       "      <td>0</td>\n",
       "      <td>0</td>\n",
       "      <td>0</td>\n",
       "      <td>0</td>\n",
       "      <td>...</td>\n",
       "      <td>0</td>\n",
       "      <td>0</td>\n",
       "      <td>0</td>\n",
       "      <td>0</td>\n",
       "      <td>0</td>\n",
       "      <td>0</td>\n",
       "      <td>0</td>\n",
       "      <td>0</td>\n",
       "      <td>0</td>\n",
       "      <td>0</td>\n",
       "    </tr>\n",
       "    <tr>\n",
       "      <th>SH3GL1</th>\n",
       "      <td>1</td>\n",
       "      <td>0</td>\n",
       "      <td>1</td>\n",
       "      <td>1</td>\n",
       "      <td>0</td>\n",
       "      <td>0</td>\n",
       "      <td>0</td>\n",
       "      <td>0</td>\n",
       "      <td>0</td>\n",
       "      <td>0</td>\n",
       "      <td>...</td>\n",
       "      <td>0</td>\n",
       "      <td>0</td>\n",
       "      <td>0</td>\n",
       "      <td>0</td>\n",
       "      <td>0</td>\n",
       "      <td>0</td>\n",
       "      <td>0</td>\n",
       "      <td>0</td>\n",
       "      <td>0</td>\n",
       "      <td>0</td>\n",
       "    </tr>\n",
       "    <tr>\n",
       "      <th>DNM1</th>\n",
       "      <td>0</td>\n",
       "      <td>1</td>\n",
       "      <td>1</td>\n",
       "      <td>1</td>\n",
       "      <td>0</td>\n",
       "      <td>0</td>\n",
       "      <td>0</td>\n",
       "      <td>0</td>\n",
       "      <td>0</td>\n",
       "      <td>0</td>\n",
       "      <td>...</td>\n",
       "      <td>0</td>\n",
       "      <td>0</td>\n",
       "      <td>0</td>\n",
       "      <td>0</td>\n",
       "      <td>0</td>\n",
       "      <td>0</td>\n",
       "      <td>0</td>\n",
       "      <td>0</td>\n",
       "      <td>0</td>\n",
       "      <td>0</td>\n",
       "    </tr>\n",
       "    <tr>\n",
       "      <th>FHL2</th>\n",
       "      <td>0</td>\n",
       "      <td>0</td>\n",
       "      <td>0</td>\n",
       "      <td>0</td>\n",
       "      <td>1</td>\n",
       "      <td>1</td>\n",
       "      <td>0</td>\n",
       "      <td>1</td>\n",
       "      <td>1</td>\n",
       "      <td>1</td>\n",
       "      <td>...</td>\n",
       "      <td>0</td>\n",
       "      <td>0</td>\n",
       "      <td>0</td>\n",
       "      <td>0</td>\n",
       "      <td>0</td>\n",
       "      <td>0</td>\n",
       "      <td>0</td>\n",
       "      <td>0</td>\n",
       "      <td>0</td>\n",
       "      <td>0</td>\n",
       "    </tr>\n",
       "  </tbody>\n",
       "</table>\n",
       "<p>5 rows × 16015 columns</p>\n",
       "</div>"
      ],
      "text/plain": [
       "        SYNJ1  AMPH  SH3GL1  DNM1  FHL2  FHL3  EPS15  MCM7  AR  ABI1  ...  \\\n",
       "SYNJ1       0     1       1     0     0     0      0     0   0     0  ...   \n",
       "AMPH        1     1       0     1     0     0      0     0   0     0  ...   \n",
       "SH3GL1      1     0       1     1     0     0      0     0   0     0  ...   \n",
       "DNM1        0     1       1     1     0     0      0     0   0     0  ...   \n",
       "FHL2        0     0       0     0     1     1      0     1   1     1  ...   \n",
       "\n",
       "        CALM3  SFT2D3  SLC16A2  H19  OSBPL7  PDE6A  SCN9A  SLC38A8  MIR146A  \\\n",
       "SYNJ1       0       0        0    0       0      0      0        0        0   \n",
       "AMPH        0       0        0    0       0      0      0        0        0   \n",
       "SH3GL1      0       0        0    0       0      0      0        0        0   \n",
       "DNM1        0       0        0    0       0      0      0        0        0   \n",
       "FHL2        0       0        0    0       0      0      0        0        0   \n",
       "\n",
       "        MIR338  \n",
       "SYNJ1        0  \n",
       "AMPH         0  \n",
       "SH3GL1       0  \n",
       "DNM1         0  \n",
       "FHL2         0  \n",
       "\n",
       "[5 rows x 16015 columns]"
      ]
     },
     "execution_count": 4,
     "metadata": {},
     "output_type": "execute_result"
    }
   ],
   "source": [
    "A_df.head()"
   ]
  },
  {
   "cell_type": "code",
   "execution_count": 5,
   "id": "d9dbd00b-a107-4738-9ff4-52f3e779642b",
   "metadata": {},
   "outputs": [],
   "source": [
    "nodes = A_df.index.values.astype('str')"
   ]
  },
  {
   "cell_type": "code",
   "execution_count": 6,
   "id": "ba3946f3-aaa8-4cbc-b52b-8840e5fabeee",
   "metadata": {},
   "outputs": [
    {
     "data": {
      "text/plain": [
       "46"
      ]
     },
     "execution_count": 6,
     "metadata": {},
     "output_type": "execute_result"
    }
   ],
   "source": [
    "A = sparse.csc_matrix(A_df.to_numpy().astype('int32'))\n",
    "del A_df\n",
    "gc.collect()"
   ]
  },
  {
   "cell_type": "code",
   "execution_count": 7,
   "id": "d1e0722b-1682-4988-8982-a2ac9de9db1f",
   "metadata": {},
   "outputs": [
    {
     "name": "stderr",
     "output_type": "stream",
     "text": [
      "/home/whitleyo/miniforge3/envs/pytorch3drugcell/lib/python3.7/site-packages/scipy/sparse/_index.py:126: SparseEfficiencyWarning: Changing the sparsity structure of a csc_matrix is expensive. lil_matrix is more efficient.\n",
      "  self._set_arrayXarray(i, j, x)\n"
     ]
    }
   ],
   "source": [
    "# set all diagonals to 0 since we plan on running diffusion with a restart probability\n",
    "diag_values = A.diagonal()\n",
    "diag_values[diag_values == 1] = 0\n",
    "A.setdiag(diag_values)"
   ]
  },
  {
   "cell_type": "code",
   "execution_count": 8,
   "id": "d500f551-105d-499b-ad40-3a6ee4b49175",
   "metadata": {},
   "outputs": [
    {
     "name": "stdout",
     "output_type": "stream",
     "text": [
      "16015\n",
      "15993\n"
     ]
    },
    {
     "data": {
      "text/plain": [
       "46"
      ]
     },
     "execution_count": 8,
     "metadata": {},
     "output_type": "execute_result"
    }
   ],
   "source": [
    "# remove anything that doesn't interact with at least one other protein, as this screws up the diffusion calculation\n",
    "nodes_keep_idx = np.where(np.array(A.sum(axis=1)).flatten() != 0)[0]\n",
    "nodes_keep = nodes[nodes_keep_idx]\n",
    "print(len(nodes))\n",
    "print(len(nodes_keep))\n",
    "A = A[nodes_keep_idx, :][:, nodes_keep_idx]\n",
    "gc.collect()"
   ]
  },
  {
   "cell_type": "code",
   "execution_count": 9,
   "id": "fb4ce3e1-865d-4cde-93e6-71f9ddca6187",
   "metadata": {},
   "outputs": [
    {
     "data": {
      "text/plain": [
       "array([0, 0, 0, ..., 0, 0, 0], dtype=int32)"
      ]
     },
     "execution_count": 9,
     "metadata": {},
     "output_type": "execute_result"
    }
   ],
   "source": [
    "A.diagonal()"
   ]
  },
  {
   "cell_type": "code",
   "execution_count": 10,
   "id": "b57b8672-45c2-437c-952c-d71af22d87b9",
   "metadata": {},
   "outputs": [
    {
     "data": {
      "text/plain": [
       "46"
      ]
     },
     "execution_count": 10,
     "metadata": {},
     "output_type": "execute_result"
    }
   ],
   "source": [
    "D1 = sparse.csc_matrix(np.diag(np.array(1/A.sum(axis=1)).flatten()))\n",
    "gc.collect()"
   ]
  },
  {
   "cell_type": "code",
   "execution_count": 11,
   "id": "b6a94345-ffb8-4e2e-a790-2d3b0e19e3fa",
   "metadata": {},
   "outputs": [
    {
     "data": {
      "text/plain": [
       "<15993x15993 sparse matrix of type '<class 'numpy.float64'>'\n",
       "\twith 15993 stored elements in Compressed Sparse Column format>"
      ]
     },
     "execution_count": 11,
     "metadata": {},
     "output_type": "execute_result"
    }
   ],
   "source": [
    "D1"
   ]
  },
  {
   "cell_type": "code",
   "execution_count": 12,
   "id": "6c8ffdab-2898-4964-a6a4-480187e1bfb7",
   "metadata": {},
   "outputs": [],
   "source": [
    "D2 =  sparse.csc_matrix(np.diag(np.repeat(1., A.shape[0])))"
   ]
  },
  {
   "cell_type": "code",
   "execution_count": 13,
   "id": "70c1ee96-8c39-49d2-953b-922ddeb2454f",
   "metadata": {},
   "outputs": [
    {
     "data": {
      "text/plain": [
       "(15993, 15993)"
      ]
     },
     "execution_count": 13,
     "metadata": {},
     "output_type": "execute_result"
    }
   ],
   "source": [
    "D2.shape"
   ]
  },
  {
   "cell_type": "code",
   "execution_count": 14,
   "id": "32068551-bfdd-4b64-83de-ab7d07457263",
   "metadata": {},
   "outputs": [],
   "source": [
    "# Make the Transition Matrix\n",
    "A1 = 0.5*(D2 + (D1 @ A))"
   ]
  },
  {
   "cell_type": "code",
   "execution_count": 15,
   "id": "ddeac56c-587e-4ab6-b60d-2a572423c52b",
   "metadata": {},
   "outputs": [
    {
     "data": {
      "text/plain": [
       "matrix([[1.],\n",
       "        [1.],\n",
       "        [1.],\n",
       "        ...,\n",
       "        [1.],\n",
       "        [1.],\n",
       "        [1.]])"
      ]
     },
     "execution_count": 15,
     "metadata": {},
     "output_type": "execute_result"
    }
   ],
   "source": [
    "A1.sum(axis=1)"
   ]
  },
  {
   "cell_type": "code",
   "execution_count": 16,
   "id": "0b074877-9bb8-4ec0-8818-9c85493cc82d",
   "metadata": {},
   "outputs": [
    {
     "data": {
      "text/plain": [
       "array([0.5, 0.5, 0.5, ..., 0.5, 0.5, 0.5])"
      ]
     },
     "execution_count": 16,
     "metadata": {},
     "output_type": "execute_result"
    }
   ],
   "source": [
    "A1.diagonal()"
   ]
  },
  {
   "cell_type": "code",
   "execution_count": 17,
   "id": "e4ebb998-ec22-486c-ba00-5c25bc73c9a9",
   "metadata": {},
   "outputs": [
    {
     "data": {
      "text/plain": [
       "array([0.00168919, 0.00543478, 0.01282051, 0.03571429, 0.5       ])"
      ]
     },
     "execution_count": 17,
     "metadata": {},
     "output_type": "execute_result"
    }
   ],
   "source": [
    "np.quantile(A1[A1.nonzero()], [0.05, 0.25, 0.5, 0.75, 0.95])"
   ]
  },
  {
   "cell_type": "code",
   "execution_count": 18,
   "id": "d3e6b47c-4f78-4e2d-8e25-2d4b579b8921",
   "metadata": {},
   "outputs": [
    {
     "data": {
      "text/plain": [
       "46"
      ]
     },
     "execution_count": 18,
     "metadata": {},
     "output_type": "execute_result"
    }
   ],
   "source": [
    "del A\n",
    "del D1\n",
    "del D2\n",
    "gc.collect()"
   ]
  },
  {
   "cell_type": "code",
   "execution_count": 19,
   "id": "97b5a7b4-9f34-4faa-9d40-48618f6402cb",
   "metadata": {},
   "outputs": [
    {
     "data": {
      "text/plain": [
       "matrix([[1.],\n",
       "        [1.],\n",
       "        [1.],\n",
       "        ...,\n",
       "        [1.],\n",
       "        [1.],\n",
       "        [1.]])"
      ]
     },
     "execution_count": 19,
     "metadata": {},
     "output_type": "execute_result"
    }
   ],
   "source": [
    "A1.sum(axis=1)"
   ]
  },
  {
   "cell_type": "code",
   "execution_count": 20,
   "id": "8783ee0d-217c-49f2-a857-12b108bc1ef7",
   "metadata": {},
   "outputs": [],
   "source": [
    "AN = A1.copy()"
   ]
  },
  {
   "cell_type": "code",
   "execution_count": 21,
   "id": "318b779c-5c31-490e-ab27-80b14c05b80c",
   "metadata": {},
   "outputs": [
    {
     "name": "stdout",
     "output_type": "stream",
     "text": [
      "i: 0\n",
      "i: 1\n",
      "i: 2\n"
     ]
    }
   ],
   "source": [
    "# max_eps = 0.01\n",
    "fraction_edges = [float(A1.count_nonzero())/float(A1.shape[0]**2)]\n",
    "# fraction_gt_05 = [float(sum(np.array(A1[A1.nonzero()]).flatten() > 0.05))/float(A1.shape[0]**2)]\n",
    "max_iter = 3\n",
    "for i in range(0, max_iter):\n",
    "    AN_next = AN @ A1\n",
    "    fraction_edges.append(float(AN_next.count_nonzero())/float(AN_next.shape[0]**2))\n",
    "    # fraction_gt_05.append(float(sum(np.array(AN_next[AN_next.nonzero()]).flatten() > 0.05))/float(AN_next.shape[0]**2))\n",
    "    # eps = (abs(AN_next - AN)).sum()\n",
    "    del AN\n",
    "    gc.collect()\n",
    "    AN = AN_next\n",
    "    del AN_next\n",
    "    gc.collect()\n",
    "    print('i: {}'.format(i))\n",
    "    # print(\"eps {}\".format(eps))\n",
    "    # if eps < max_eps:\n",
    "    #     break\n",
    "    # if i + 1 == max_iter:\n",
    "    #     print('no convergence')"
   ]
  },
  {
   "cell_type": "code",
   "execution_count": 22,
   "id": "f006bcb2-18d2-4fbb-8c7f-88e03b2fdaf9",
   "metadata": {},
   "outputs": [
    {
     "data": {
      "text/plain": [
       "<matplotlib.axes._subplots.AxesSubplot at 0x7f49db104bd0>"
      ]
     },
     "execution_count": 22,
     "metadata": {},
     "output_type": "execute_result"
    },
    {
     "data": {
      "image/png": "[encoded data removed]",
      "text/plain": [
       "<Figure size 640x480 with 1 Axes>"
      ]
     },
     "metadata": {},
     "output_type": "display_data"
    }
   ],
   "source": [
    "sns.lineplot(x=np.arange(0, max_iter + 1), y=fraction_edges)"
   ]
  },
  {
   "cell_type": "code",
   "execution_count": 23,
   "id": "1151b6c2-772c-4013-ab71-8955e6ca5a04",
   "metadata": {},
   "outputs": [
    {
     "data": {
      "text/plain": [
       "[0.001134214877171709,\n",
       " 0.055473681196787895,\n",
       " 0.48676253107655126,\n",
       " 0.9109954818326246]"
      ]
     },
     "execution_count": 23,
     "metadata": {},
     "output_type": "execute_result"
    }
   ],
   "source": [
    "fraction_edges"
   ]
  },
  {
   "cell_type": "code",
   "execution_count": 24,
   "id": "e583af05-fce7-48d0-ab07-4ae01b44318c",
   "metadata": {},
   "outputs": [],
   "source": [
    "# sns.lineplot(x=np.arange(0, max_iter + 1), y=fraction_gt_05)"
   ]
  },
  {
   "cell_type": "code",
   "execution_count": 25,
   "id": "280090a6-c345-4200-a926-62c2da0a4f52",
   "metadata": {},
   "outputs": [],
   "source": [
    "# fraction_gt_05"
   ]
  },
  {
   "cell_type": "code",
   "execution_count": 26,
   "id": "32455353-a038-4d5b-a938-d95e339de714",
   "metadata": {},
   "outputs": [
    {
     "data": {
      "text/plain": [
       "92"
      ]
     },
     "execution_count": 26,
     "metadata": {},
     "output_type": "execute_result"
    }
   ],
   "source": [
    "del AN\n",
    "gc.collect()"
   ]
  },
  {
   "cell_type": "code",
   "execution_count": 27,
   "id": "2b1d9ab3-0067-468e-b33f-27a9f280c800",
   "metadata": {},
   "outputs": [],
   "source": [
    "AN = A1.copy()"
   ]
  },
  {
   "cell_type": "code",
   "execution_count": 28,
   "id": "90aae02e-8481-4747-ac45-08acf60df88c",
   "metadata": {},
   "outputs": [
    {
     "name": "stdout",
     "output_type": "stream",
     "text": [
      "i: 0\n",
      "i: 1\n"
     ]
    }
   ],
   "source": [
    "max_iter = 2\n",
    "for i in range(0, max_iter):\n",
    "    AN_next = AN @ A1\n",
    "    del AN\n",
    "    gc.collect()\n",
    "    AN = AN_next\n",
    "    del AN_next\n",
    "    gc.collect()\n",
    "    print('i: {}'.format(i))"
   ]
  },
  {
   "cell_type": "code",
   "execution_count": 29,
   "id": "72a3f5f3-3b52-47f5-b442-d9b81709b48a",
   "metadata": {},
   "outputs": [
    {
     "data": {
      "text/plain": [
       "<15993x15993 sparse matrix of type '<class 'numpy.float64'>'\n",
       "\twith 290105 stored elements in Compressed Sparse Column format>"
      ]
     },
     "execution_count": 29,
     "metadata": {},
     "output_type": "execute_result"
    }
   ],
   "source": [
    "A1"
   ]
  },
  {
   "cell_type": "code",
   "execution_count": 30,
   "id": "fbaee1e2-a54c-419b-9528-435db07c8c85",
   "metadata": {},
   "outputs": [
    {
     "data": {
      "text/plain": [
       "array([0.00168919, 0.00543478, 0.01282051, 0.03571429, 0.5       ])"
      ]
     },
     "execution_count": 30,
     "metadata": {},
     "output_type": "execute_result"
    }
   ],
   "source": [
    "np.quantile(A1[A1.nonzero()], [0.05, 0.25, 0.5, 0.75, 0.95])"
   ]
  },
  {
   "cell_type": "code",
   "execution_count": 31,
   "id": "26884b66-132f-4ea7-aa01-d91b66322a13",
   "metadata": {},
   "outputs": [
    {
     "data": {
      "text/plain": [
       "array([2.17125754e-07, 1.20917815e-06, 4.20903765e-06, 1.62539867e-05,\n",
       "       2.10653304e-04])"
      ]
     },
     "execution_count": 31,
     "metadata": {},
     "output_type": "execute_result"
    }
   ],
   "source": [
    "np.quantile(AN[AN.nonzero()], [0.05, 0.25, 0.5, 0.75, 0.95])"
   ]
  },
  {
   "cell_type": "code",
   "execution_count": 32,
   "id": "169acedf-2ff0-4702-93e8-31d18b708bae",
   "metadata": {},
   "outputs": [
    {
     "data": {
      "text/plain": [
       "array([0.12765669, 0.13302726, 0.13990385, 0.15183082, 0.19339612])"
      ]
     },
     "execution_count": 32,
     "metadata": {},
     "output_type": "execute_result"
    }
   ],
   "source": [
    "np.quantile(AN.diagonal(), [0.05, 0.25, 0.5, 0.75, 0.95])"
   ]
  },
  {
   "cell_type": "code",
   "execution_count": 33,
   "id": "9fd597af-8d03-4648-af8c-a2cbacfbdc63",
   "metadata": {},
   "outputs": [
    {
     "data": {
      "text/plain": [
       "115"
      ]
     },
     "execution_count": 33,
     "metadata": {},
     "output_type": "execute_result"
    }
   ],
   "source": [
    "del A1\n",
    "gc.collect()"
   ]
  },
  {
   "cell_type": "code",
   "execution_count": 34,
   "id": "2af071b5-6792-4511-a2ef-fa226c01c679",
   "metadata": {},
   "outputs": [
    {
     "data": {
      "text/plain": [
       "<15993x15993 sparse matrix of type '<class 'numpy.float64'>'\n",
       "\twith 124502197 stored elements in Compressed Sparse Column format>"
      ]
     },
     "execution_count": 34,
     "metadata": {},
     "output_type": "execute_result"
    }
   ],
   "source": [
    "AN"
   ]
  },
  {
   "cell_type": "code",
   "execution_count": 35,
   "id": "d639b539-f6e0-44fb-9bed-f6bf3d3fb464",
   "metadata": {},
   "outputs": [],
   "source": [
    "A_df = pd.DataFrame(AN.todense(), index=nodes_keep, columns=nodes_keep)\n",
    "A_df.to_csv(os.path.join(output_dir, 'A_random_walk_{}_step.csv'.format(max_iter)))"
   ]
  },
  {
   "cell_type": "code",
   "execution_count": null,
   "id": "944db61d-c58c-4156-9b47-2614bccb5953",
   "metadata": {},
   "outputs": [],
   "source": []
  }
 ],
 "metadata": {
  "kernelspec": {
   "display_name": "pytorch3drugcell",
   "language": "python",
   "name": "pytorch3drugcell"
  },
  "language_info": {
   "codemirror_mode": {
    "name": "ipython",
    "version": 3
   },
   "file_extension": ".py",
   "mimetype": "text/x-python",
   "name": "python",
   "nbconvert_exporter": "python",
   "pygments_lexer": "ipython3",
   "version": "3.7.4"
  }
 },
 "nbformat": 4,
 "nbformat_minor": 5
}
