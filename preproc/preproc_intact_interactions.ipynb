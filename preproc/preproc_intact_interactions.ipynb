{
 "cells": [
  {
   "cell_type": "markdown",
   "id": "92356b9e-448d-4153-97c5-c3b00eba3ca6",
   "metadata": {},
   "source": [
    "# Filter Intact Interactions for Desired Interaction Set"
   ]
  },
  {
   "cell_type": "code",
   "execution_count": 1,
   "id": "c246901e-5c7c-437f-862b-01942e8fa481",
   "metadata": {},
   "outputs": [],
   "source": [
    "import os\n",
    "import pickle as pk\n",
    "import gc\n",
    "\n",
    "import re\n",
    "import networkx as nx\n",
    "from scipy import sparse, linalg\n",
    "import numpy as np\n",
    "import pandas as pd\n",
    "\n",
    "import seaborn as sns"
   ]
  },
  {
   "cell_type": "code",
   "execution_count": 2,
   "id": "d9b9337e-6afe-4228-aa33-c0f94b3ad4a2",
   "metadata": {},
   "outputs": [
    {
     "data": {
      "text/plain": [
       "['intact.txt',\n",
       " 'Cancer.zip',\n",
       " 'intact_negative.txt',\n",
       " 'psimitab',\n",
       " 'README.md',\n",
       " 'intact_homo_sapiens.txt',\n",
       " 'intact.zip',\n",
       " 'Cancer']"
      ]
     },
     "execution_count": 2,
     "metadata": {},
     "output_type": "execute_result"
    }
   ],
   "source": [
    "top_dir = '../'\n",
    "inp_dir = os.path.join(top_dir, 'data/raw/intact')\n",
    "os.listdir(inp_dir)"
   ]
  },
  {
   "cell_type": "code",
   "execution_count": 3,
   "id": "40e503b3-14e2-4bf8-a126-f7f6e00adb4b",
   "metadata": {},
   "outputs": [],
   "source": [
    "output_dir = os.path.join(top_dir, 'data/preproc/intact_proc')\n",
    "if not os.path.exists(output_dir):\n",
    "    os.mkdir(output_dir)"
   ]
  },
  {
   "cell_type": "markdown",
   "id": "ebf9b66d-6949-47c8-85c4-6ff31b78127a",
   "metadata": {},
   "source": [
    "## Load Interactions"
   ]
  },
  {
   "cell_type": "code",
   "execution_count": 4,
   "id": "bce54302-4cd0-4a65-9b68-09208c58e8e9",
   "metadata": {},
   "outputs": [],
   "source": [
    "intact_file = os.path.join(inp_dir, 'intact.txt')\n",
    "intact_df = pd.read_table(intact_file, sep='\\t')"
   ]
  },
  {
   "cell_type": "code",
   "execution_count": 5,
   "id": "4686987e-7d1b-4781-a8d1-62a745365aa1",
   "metadata": {},
   "outputs": [
    {
     "data": {
      "text/plain": [
       "(1572112, 42)"
      ]
     },
     "execution_count": 5,
     "metadata": {},
     "output_type": "execute_result"
    }
   ],
   "source": [
    "intact_df.shape"
   ]
  },
  {
   "cell_type": "code",
   "execution_count": 6,
   "id": "21cbf75d-5a61-4494-93ec-6097dedf4f41",
   "metadata": {},
   "outputs": [
    {
     "data": {
      "text/html": [
       "<div>\n",
       "<style scoped>\n",
       "    .dataframe tbody tr th:only-of-type {\n",
       "        vertical-align: middle;\n",
       "    }\n",
       "\n",
       "    .dataframe tbody tr th {\n",
       "        vertical-align: top;\n",
       "    }\n",
       "\n",
       "    .dataframe thead th {\n",
       "        text-align: right;\n",
       "    }\n",
       "</style>\n",
       "<table border=\"1\" class=\"dataframe\">\n",
       "  <thead>\n",
       "    <tr style=\"text-align: right;\">\n",
       "      <th></th>\n",
       "      <th>#ID(s) interactor A</th>\n",
       "      <th>ID(s) interactor B</th>\n",
       "      <th>Alt. ID(s) interactor A</th>\n",
       "      <th>Alt. ID(s) interactor B</th>\n",
       "      <th>Alias(es) interactor A</th>\n",
       "      <th>Alias(es) interactor B</th>\n",
       "      <th>Interaction detection method(s)</th>\n",
       "      <th>Publication 1st author(s)</th>\n",
       "      <th>Publication Identifier(s)</th>\n",
       "      <th>Taxid interactor A</th>\n",
       "      <th>...</th>\n",
       "      <th>Checksum(s) interactor A</th>\n",
       "      <th>Checksum(s) interactor B</th>\n",
       "      <th>Interaction Checksum(s)</th>\n",
       "      <th>Negative</th>\n",
       "      <th>Feature(s) interactor A</th>\n",
       "      <th>Feature(s) interactor B</th>\n",
       "      <th>Stoichiometry(s) interactor A</th>\n",
       "      <th>Stoichiometry(s) interactor B</th>\n",
       "      <th>Identification method participant A</th>\n",
       "      <th>Identification method participant B</th>\n",
       "    </tr>\n",
       "  </thead>\n",
       "  <tbody>\n",
       "    <tr>\n",
       "      <th>0</th>\n",
       "      <td>uniprotkb:O43426</td>\n",
       "      <td>uniprotkb:P49418</td>\n",
       "      <td>intact:EBI-2821539|uniprotkb:O43425|uniprotkb:...</td>\n",
       "      <td>intact:EBI-7121510|intact:MINT-109264|uniprotk...</td>\n",
       "      <td>psi-mi:synj1_human(display_long)|uniprotkb:SYN...</td>\n",
       "      <td>psi-mi:amph_human(display_long)|uniprotkb:AMPH...</td>\n",
       "      <td>psi-mi:\"MI:0084\"(phage display)</td>\n",
       "      <td>Cestra et al. (1999)</td>\n",
       "      <td>pubmed:10542231|mint:MINT-5211933</td>\n",
       "      <td>taxid:9606(human)|taxid:9606(Homo sapiens)</td>\n",
       "      <td>...</td>\n",
       "      <td>rogid:RA73eMbCn6F7MD0ItxF/V7QbjqM9606</td>\n",
       "      <td>rogid:vrgVrVoYr45cUe4X6L/zBAE1RtU9606</td>\n",
       "      <td>intact-crc:F4234557A3B54840|rigid:n+UcEH4PPLkF...</td>\n",
       "      <td>False</td>\n",
       "      <td>binding-associated region:1063-1070(MINT-376288)</td>\n",
       "      <td>binding-associated region:626-695(MINT-376295)</td>\n",
       "      <td>-</td>\n",
       "      <td>-</td>\n",
       "      <td>psi-mi:\"MI:0078\"(nucleotide sequence identific...</td>\n",
       "      <td>psi-mi:\"MI:0078\"(nucleotide sequence identific...</td>\n",
       "    </tr>\n",
       "    <tr>\n",
       "      <th>1</th>\n",
       "      <td>intact:EBI-7121639</td>\n",
       "      <td>uniprotkb:P49418</td>\n",
       "      <td>intact:MINT-8094608</td>\n",
       "      <td>intact:EBI-7121510|intact:MINT-109264|uniprotk...</td>\n",
       "      <td>psi-mi:vrparrvlw(display_short)|psi-mi:EBI-712...</td>\n",
       "      <td>psi-mi:amph_human(display_long)|uniprotkb:AMPH...</td>\n",
       "      <td>psi-mi:\"MI:0084\"(phage display)</td>\n",
       "      <td>Cestra et al. (1999)</td>\n",
       "      <td>pubmed:10542231|mint:MINT-5211933</td>\n",
       "      <td>taxid:-2(chemical synthesis)|taxid:-2(\"Chemica...</td>\n",
       "      <td>...</td>\n",
       "      <td>rogid:lPy6gBhpgvyGSYgOqeHbjcqBtMQ-2</td>\n",
       "      <td>rogid:vrgVrVoYr45cUe4X6L/zBAE1RtU9606</td>\n",
       "      <td>intact-crc:880913D9000BF26E|rigid:iRObbQsaUeX0...</td>\n",
       "      <td>False</td>\n",
       "      <td>-</td>\n",
       "      <td>binding-associated region:626-695(MINT-8094602)</td>\n",
       "      <td>-</td>\n",
       "      <td>-</td>\n",
       "      <td>psi-mi:\"MI:0083\"(peptide synthesis)</td>\n",
       "      <td>psi-mi:\"MI:0078\"(nucleotide sequence identific...</td>\n",
       "    </tr>\n",
       "    <tr>\n",
       "      <th>2</th>\n",
       "      <td>intact:EBI-7121654</td>\n",
       "      <td>uniprotkb:P49418</td>\n",
       "      <td>intact:MINT-8094645</td>\n",
       "      <td>intact:EBI-7121510|intact:MINT-109264|uniprotk...</td>\n",
       "      <td>psi-mi:hrpvrraap(display_short)|psi-mi:EBI-712...</td>\n",
       "      <td>psi-mi:amph_human(display_long)|uniprotkb:AMPH...</td>\n",
       "      <td>psi-mi:\"MI:0084\"(phage display)</td>\n",
       "      <td>Cestra et al. (1999)</td>\n",
       "      <td>pubmed:10542231|mint:MINT-5211933</td>\n",
       "      <td>taxid:-2(chemical synthesis)|taxid:-2(\"Chemica...</td>\n",
       "      <td>...</td>\n",
       "      <td>rogid:GsDnsVmAo8ZZoKTZ4/uDb2x+h3c-2</td>\n",
       "      <td>rogid:vrgVrVoYr45cUe4X6L/zBAE1RtU9606</td>\n",
       "      <td>intact-crc:B68245E1F0508124|rigid:SlinPP5vIczF...</td>\n",
       "      <td>False</td>\n",
       "      <td>-</td>\n",
       "      <td>binding-associated region:626-695(MINT-8094630)</td>\n",
       "      <td>-</td>\n",
       "      <td>-</td>\n",
       "      <td>psi-mi:\"MI:0083\"(peptide synthesis)</td>\n",
       "      <td>psi-mi:\"MI:0078\"(nucleotide sequence identific...</td>\n",
       "    </tr>\n",
       "    <tr>\n",
       "      <th>3</th>\n",
       "      <td>intact:EBI-7121715</td>\n",
       "      <td>uniprotkb:P49418</td>\n",
       "      <td>intact:MINT-8094663</td>\n",
       "      <td>intact:EBI-7121510|intact:MINT-109264|uniprotk...</td>\n",
       "      <td>psi-mi:vrptraada(display_short)|psi-mi:EBI-712...</td>\n",
       "      <td>psi-mi:amph_human(display_long)|uniprotkb:AMPH...</td>\n",
       "      <td>psi-mi:\"MI:0084\"(phage display)</td>\n",
       "      <td>Cestra et al. (1999)</td>\n",
       "      <td>pubmed:10542231|mint:MINT-5211933</td>\n",
       "      <td>taxid:-2(chemical synthesis)|taxid:-2(\"Chemica...</td>\n",
       "      <td>...</td>\n",
       "      <td>rogid:M+f6GE3SQXrMBiIVttW1MKhz3M0-2</td>\n",
       "      <td>rogid:vrgVrVoYr45cUe4X6L/zBAE1RtU9606</td>\n",
       "      <td>intact-crc:8F7F46DF027DF34E|rigid:uiWbDe6gaj1X...</td>\n",
       "      <td>False</td>\n",
       "      <td>-</td>\n",
       "      <td>binding-associated region:626-695(MINT-8094654)</td>\n",
       "      <td>-</td>\n",
       "      <td>-</td>\n",
       "      <td>psi-mi:\"MI:0083\"(peptide synthesis)</td>\n",
       "      <td>psi-mi:\"MI:0078\"(nucleotide sequence identific...</td>\n",
       "    </tr>\n",
       "    <tr>\n",
       "      <th>4</th>\n",
       "      <td>uniprotkb:P49418</td>\n",
       "      <td>intact:EBI-7121765</td>\n",
       "      <td>intact:EBI-7121510|intact:MINT-109264|uniprotk...</td>\n",
       "      <td>intact:MINT-8094691</td>\n",
       "      <td>psi-mi:amph_human(display_long)|uniprotkb:AMPH...</td>\n",
       "      <td>psi-mi:xrprrghal(display_short)|psi-mi:EBI-712...</td>\n",
       "      <td>psi-mi:\"MI:0084\"(phage display)</td>\n",
       "      <td>Cestra et al. (1999)</td>\n",
       "      <td>pubmed:10542231|mint:MINT-5211933</td>\n",
       "      <td>taxid:9606(human)|taxid:9606(Homo sapiens)</td>\n",
       "      <td>...</td>\n",
       "      <td>rogid:vrgVrVoYr45cUe4X6L/zBAE1RtU9606</td>\n",
       "      <td>rogid:cilZXZ3YLDI1s7n8WNRyUE6EnJQ-2</td>\n",
       "      <td>intact-crc:2EF43A66D9B2D428|rigid:/ki1zA46M4Q+...</td>\n",
       "      <td>False</td>\n",
       "      <td>binding-associated region:626-695(MINT-8094680)</td>\n",
       "      <td>-</td>\n",
       "      <td>-</td>\n",
       "      <td>-</td>\n",
       "      <td>psi-mi:\"MI:0078\"(nucleotide sequence identific...</td>\n",
       "      <td>psi-mi:\"MI:0083\"(peptide synthesis)</td>\n",
       "    </tr>\n",
       "  </tbody>\n",
       "</table>\n",
       "<p>5 rows × 42 columns</p>\n",
       "</div>"
      ],
      "text/plain": [
       "  #ID(s) interactor A  ID(s) interactor B  \\\n",
       "0    uniprotkb:O43426    uniprotkb:P49418   \n",
       "1  intact:EBI-7121639    uniprotkb:P49418   \n",
       "2  intact:EBI-7121654    uniprotkb:P49418   \n",
       "3  intact:EBI-7121715    uniprotkb:P49418   \n",
       "4    uniprotkb:P49418  intact:EBI-7121765   \n",
       "\n",
       "                             Alt. ID(s) interactor A  \\\n",
       "0  intact:EBI-2821539|uniprotkb:O43425|uniprotkb:...   \n",
       "1                                intact:MINT-8094608   \n",
       "2                                intact:MINT-8094645   \n",
       "3                                intact:MINT-8094663   \n",
       "4  intact:EBI-7121510|intact:MINT-109264|uniprotk...   \n",
       "\n",
       "                             Alt. ID(s) interactor B  \\\n",
       "0  intact:EBI-7121510|intact:MINT-109264|uniprotk...   \n",
       "1  intact:EBI-7121510|intact:MINT-109264|uniprotk...   \n",
       "2  intact:EBI-7121510|intact:MINT-109264|uniprotk...   \n",
       "3  intact:EBI-7121510|intact:MINT-109264|uniprotk...   \n",
       "4                                intact:MINT-8094691   \n",
       "\n",
       "                              Alias(es) interactor A  \\\n",
       "0  psi-mi:synj1_human(display_long)|uniprotkb:SYN...   \n",
       "1  psi-mi:vrparrvlw(display_short)|psi-mi:EBI-712...   \n",
       "2  psi-mi:hrpvrraap(display_short)|psi-mi:EBI-712...   \n",
       "3  psi-mi:vrptraada(display_short)|psi-mi:EBI-712...   \n",
       "4  psi-mi:amph_human(display_long)|uniprotkb:AMPH...   \n",
       "\n",
       "                              Alias(es) interactor B  \\\n",
       "0  psi-mi:amph_human(display_long)|uniprotkb:AMPH...   \n",
       "1  psi-mi:amph_human(display_long)|uniprotkb:AMPH...   \n",
       "2  psi-mi:amph_human(display_long)|uniprotkb:AMPH...   \n",
       "3  psi-mi:amph_human(display_long)|uniprotkb:AMPH...   \n",
       "4  psi-mi:xrprrghal(display_short)|psi-mi:EBI-712...   \n",
       "\n",
       "   Interaction detection method(s) Publication 1st author(s)  \\\n",
       "0  psi-mi:\"MI:0084\"(phage display)      Cestra et al. (1999)   \n",
       "1  psi-mi:\"MI:0084\"(phage display)      Cestra et al. (1999)   \n",
       "2  psi-mi:\"MI:0084\"(phage display)      Cestra et al. (1999)   \n",
       "3  psi-mi:\"MI:0084\"(phage display)      Cestra et al. (1999)   \n",
       "4  psi-mi:\"MI:0084\"(phage display)      Cestra et al. (1999)   \n",
       "\n",
       "           Publication Identifier(s)  \\\n",
       "0  pubmed:10542231|mint:MINT-5211933   \n",
       "1  pubmed:10542231|mint:MINT-5211933   \n",
       "2  pubmed:10542231|mint:MINT-5211933   \n",
       "3  pubmed:10542231|mint:MINT-5211933   \n",
       "4  pubmed:10542231|mint:MINT-5211933   \n",
       "\n",
       "                                  Taxid interactor A  ...  \\\n",
       "0         taxid:9606(human)|taxid:9606(Homo sapiens)  ...   \n",
       "1  taxid:-2(chemical synthesis)|taxid:-2(\"Chemica...  ...   \n",
       "2  taxid:-2(chemical synthesis)|taxid:-2(\"Chemica...  ...   \n",
       "3  taxid:-2(chemical synthesis)|taxid:-2(\"Chemica...  ...   \n",
       "4         taxid:9606(human)|taxid:9606(Homo sapiens)  ...   \n",
       "\n",
       "                Checksum(s) interactor A  \\\n",
       "0  rogid:RA73eMbCn6F7MD0ItxF/V7QbjqM9606   \n",
       "1    rogid:lPy6gBhpgvyGSYgOqeHbjcqBtMQ-2   \n",
       "2    rogid:GsDnsVmAo8ZZoKTZ4/uDb2x+h3c-2   \n",
       "3    rogid:M+f6GE3SQXrMBiIVttW1MKhz3M0-2   \n",
       "4  rogid:vrgVrVoYr45cUe4X6L/zBAE1RtU9606   \n",
       "\n",
       "                Checksum(s) interactor B  \\\n",
       "0  rogid:vrgVrVoYr45cUe4X6L/zBAE1RtU9606   \n",
       "1  rogid:vrgVrVoYr45cUe4X6L/zBAE1RtU9606   \n",
       "2  rogid:vrgVrVoYr45cUe4X6L/zBAE1RtU9606   \n",
       "3  rogid:vrgVrVoYr45cUe4X6L/zBAE1RtU9606   \n",
       "4    rogid:cilZXZ3YLDI1s7n8WNRyUE6EnJQ-2   \n",
       "\n",
       "                             Interaction Checksum(s) Negative  \\\n",
       "0  intact-crc:F4234557A3B54840|rigid:n+UcEH4PPLkF...    False   \n",
       "1  intact-crc:880913D9000BF26E|rigid:iRObbQsaUeX0...    False   \n",
       "2  intact-crc:B68245E1F0508124|rigid:SlinPP5vIczF...    False   \n",
       "3  intact-crc:8F7F46DF027DF34E|rigid:uiWbDe6gaj1X...    False   \n",
       "4  intact-crc:2EF43A66D9B2D428|rigid:/ki1zA46M4Q+...    False   \n",
       "\n",
       "                            Feature(s) interactor A  \\\n",
       "0  binding-associated region:1063-1070(MINT-376288)   \n",
       "1                                                 -   \n",
       "2                                                 -   \n",
       "3                                                 -   \n",
       "4   binding-associated region:626-695(MINT-8094680)   \n",
       "\n",
       "                           Feature(s) interactor B  \\\n",
       "0   binding-associated region:626-695(MINT-376295)   \n",
       "1  binding-associated region:626-695(MINT-8094602)   \n",
       "2  binding-associated region:626-695(MINT-8094630)   \n",
       "3  binding-associated region:626-695(MINT-8094654)   \n",
       "4                                                -   \n",
       "\n",
       "  Stoichiometry(s) interactor A Stoichiometry(s) interactor B  \\\n",
       "0                             -                             -   \n",
       "1                             -                             -   \n",
       "2                             -                             -   \n",
       "3                             -                             -   \n",
       "4                             -                             -   \n",
       "\n",
       "                 Identification method participant A  \\\n",
       "0  psi-mi:\"MI:0078\"(nucleotide sequence identific...   \n",
       "1                psi-mi:\"MI:0083\"(peptide synthesis)   \n",
       "2                psi-mi:\"MI:0083\"(peptide synthesis)   \n",
       "3                psi-mi:\"MI:0083\"(peptide synthesis)   \n",
       "4  psi-mi:\"MI:0078\"(nucleotide sequence identific...   \n",
       "\n",
       "                 Identification method participant B  \n",
       "0  psi-mi:\"MI:0078\"(nucleotide sequence identific...  \n",
       "1  psi-mi:\"MI:0078\"(nucleotide sequence identific...  \n",
       "2  psi-mi:\"MI:0078\"(nucleotide sequence identific...  \n",
       "3  psi-mi:\"MI:0078\"(nucleotide sequence identific...  \n",
       "4                psi-mi:\"MI:0083\"(peptide synthesis)  \n",
       "\n",
       "[5 rows x 42 columns]"
      ]
     },
     "execution_count": 6,
     "metadata": {},
     "output_type": "execute_result"
    }
   ],
   "source": [
    "intact_df.head()"
   ]
  },
  {
   "cell_type": "code",
   "execution_count": 7,
   "id": "29901f1b-2bf9-4025-9520-7193f7e89ac8",
   "metadata": {},
   "outputs": [
    {
     "data": {
      "text/plain": [
       "Index(['#ID(s) interactor A', 'ID(s) interactor B', 'Alt. ID(s) interactor A',\n",
       "       'Alt. ID(s) interactor B', 'Alias(es) interactor A',\n",
       "       'Alias(es) interactor B', 'Interaction detection method(s)',\n",
       "       'Publication 1st author(s)', 'Publication Identifier(s)',\n",
       "       'Taxid interactor A', 'Taxid interactor B', 'Interaction type(s)',\n",
       "       'Source database(s)', 'Interaction identifier(s)',\n",
       "       'Confidence value(s)', 'Expansion method(s)',\n",
       "       'Biological role(s) interactor A', 'Biological role(s) interactor B',\n",
       "       'Experimental role(s) interactor A',\n",
       "       'Experimental role(s) interactor B', 'Type(s) interactor A',\n",
       "       'Type(s) interactor B', 'Xref(s) interactor A', 'Xref(s) interactor B',\n",
       "       'Interaction Xref(s)', 'Annotation(s) interactor A',\n",
       "       'Annotation(s) interactor B', 'Interaction annotation(s)',\n",
       "       'Host organism(s)', 'Interaction parameter(s)', 'Creation date',\n",
       "       'Update date', 'Checksum(s) interactor A', 'Checksum(s) interactor B',\n",
       "       'Interaction Checksum(s)', 'Negative', 'Feature(s) interactor A',\n",
       "       'Feature(s) interactor B', 'Stoichiometry(s) interactor A',\n",
       "       'Stoichiometry(s) interactor B', 'Identification method participant A',\n",
       "       'Identification method participant B'],\n",
       "      dtype='object')"
      ]
     },
     "execution_count": 7,
     "metadata": {},
     "output_type": "execute_result"
    }
   ],
   "source": [
    "intact_df.columns"
   ]
  },
  {
   "cell_type": "code",
   "execution_count": 8,
   "id": "3da9a987-700b-44da-a32c-c84fe39d1ebc",
   "metadata": {},
   "outputs": [],
   "source": [
    "idx_a = intact_df['Taxid interactor A'].str.contains('9606\\(Homo sapiens\\)')\n",
    "idx_b = intact_df['Taxid interactor B'].str.contains('9606\\(Homo sapiens\\)')"
   ]
  },
  {
   "cell_type": "code",
   "execution_count": 9,
   "id": "2b6353ce-79f9-42bc-90a3-80f8d22a77bf",
   "metadata": {},
   "outputs": [
    {
     "data": {
      "text/html": [
       "<div>\n",
       "<style scoped>\n",
       "    .dataframe tbody tr th:only-of-type {\n",
       "        vertical-align: middle;\n",
       "    }\n",
       "\n",
       "    .dataframe tbody tr th {\n",
       "        vertical-align: top;\n",
       "    }\n",
       "\n",
       "    .dataframe thead th {\n",
       "        text-align: right;\n",
       "    }\n",
       "</style>\n",
       "<table border=\"1\" class=\"dataframe\">\n",
       "  <thead>\n",
       "    <tr style=\"text-align: right;\">\n",
       "      <th></th>\n",
       "      <th>#ID(s) interactor A</th>\n",
       "      <th>ID(s) interactor B</th>\n",
       "      <th>Alt. ID(s) interactor A</th>\n",
       "      <th>Alt. ID(s) interactor B</th>\n",
       "      <th>Alias(es) interactor A</th>\n",
       "      <th>Alias(es) interactor B</th>\n",
       "      <th>Interaction detection method(s)</th>\n",
       "      <th>Publication 1st author(s)</th>\n",
       "      <th>Publication Identifier(s)</th>\n",
       "      <th>Taxid interactor A</th>\n",
       "      <th>...</th>\n",
       "      <th>Checksum(s) interactor A</th>\n",
       "      <th>Checksum(s) interactor B</th>\n",
       "      <th>Interaction Checksum(s)</th>\n",
       "      <th>Negative</th>\n",
       "      <th>Feature(s) interactor A</th>\n",
       "      <th>Feature(s) interactor B</th>\n",
       "      <th>Stoichiometry(s) interactor A</th>\n",
       "      <th>Stoichiometry(s) interactor B</th>\n",
       "      <th>Identification method participant A</th>\n",
       "      <th>Identification method participant B</th>\n",
       "    </tr>\n",
       "  </thead>\n",
       "  <tbody>\n",
       "    <tr>\n",
       "      <th>0</th>\n",
       "      <td>uniprotkb:O43426</td>\n",
       "      <td>uniprotkb:P49418</td>\n",
       "      <td>intact:EBI-2821539|uniprotkb:O43425|uniprotkb:...</td>\n",
       "      <td>intact:EBI-7121510|intact:MINT-109264|uniprotk...</td>\n",
       "      <td>psi-mi:synj1_human(display_long)|uniprotkb:SYN...</td>\n",
       "      <td>psi-mi:amph_human(display_long)|uniprotkb:AMPH...</td>\n",
       "      <td>psi-mi:\"MI:0084\"(phage display)</td>\n",
       "      <td>Cestra et al. (1999)</td>\n",
       "      <td>pubmed:10542231|mint:MINT-5211933</td>\n",
       "      <td>taxid:9606(human)|taxid:9606(Homo sapiens)</td>\n",
       "      <td>...</td>\n",
       "      <td>rogid:RA73eMbCn6F7MD0ItxF/V7QbjqM9606</td>\n",
       "      <td>rogid:vrgVrVoYr45cUe4X6L/zBAE1RtU9606</td>\n",
       "      <td>intact-crc:F4234557A3B54840|rigid:n+UcEH4PPLkF...</td>\n",
       "      <td>False</td>\n",
       "      <td>binding-associated region:1063-1070(MINT-376288)</td>\n",
       "      <td>binding-associated region:626-695(MINT-376295)</td>\n",
       "      <td>-</td>\n",
       "      <td>-</td>\n",
       "      <td>psi-mi:\"MI:0078\"(nucleotide sequence identific...</td>\n",
       "      <td>psi-mi:\"MI:0078\"(nucleotide sequence identific...</td>\n",
       "    </tr>\n",
       "    <tr>\n",
       "      <th>28</th>\n",
       "      <td>uniprotkb:P49418</td>\n",
       "      <td>uniprotkb:O43426</td>\n",
       "      <td>intact:EBI-7121510|intact:MINT-109264|uniprotk...</td>\n",
       "      <td>intact:EBI-2821539|uniprotkb:O43425|uniprotkb:...</td>\n",
       "      <td>psi-mi:amph_human(display_long)|uniprotkb:AMPH...</td>\n",
       "      <td>psi-mi:synj1_human(display_long)|uniprotkb:SYN...</td>\n",
       "      <td>psi-mi:\"MI:0081\"(peptide array)</td>\n",
       "      <td>Cestra et al. (1999)</td>\n",
       "      <td>pubmed:10542231|mint:MINT-5211933</td>\n",
       "      <td>taxid:9606(human)|taxid:9606(Homo sapiens)</td>\n",
       "      <td>...</td>\n",
       "      <td>rogid:vrgVrVoYr45cUe4X6L/zBAE1RtU9606</td>\n",
       "      <td>rogid:RA73eMbCn6F7MD0ItxF/V7QbjqM9606</td>\n",
       "      <td>intact-crc:1B3C495D257C1999|rigid:n+UcEH4PPLkF...</td>\n",
       "      <td>False</td>\n",
       "      <td>glutathione s tranferase tag:?-?(MINT-8095915)...</td>\n",
       "      <td>binding-associated region:1060-1076(MINT-8095871)</td>\n",
       "      <td>-</td>\n",
       "      <td>-</td>\n",
       "      <td>psi-mi:\"MI:0411\"(enzyme linked immunosorbent a...</td>\n",
       "      <td>psi-mi:\"MI:0083\"(peptide synthesis)</td>\n",
       "    </tr>\n",
       "    <tr>\n",
       "      <th>29</th>\n",
       "      <td>uniprotkb:O43426</td>\n",
       "      <td>uniprotkb:P49418</td>\n",
       "      <td>intact:EBI-2821539|uniprotkb:O43425|uniprotkb:...</td>\n",
       "      <td>intact:EBI-7121510|intact:MINT-109264|uniprotk...</td>\n",
       "      <td>psi-mi:synj1_human(display_long)|uniprotkb:SYN...</td>\n",
       "      <td>psi-mi:amph_human(display_long)|uniprotkb:AMPH...</td>\n",
       "      <td>psi-mi:\"MI:0081\"(peptide array)</td>\n",
       "      <td>Cestra et al. (1999)</td>\n",
       "      <td>pubmed:10542231|mint:MINT-5211933</td>\n",
       "      <td>taxid:9606(human)|taxid:9606(Homo sapiens)</td>\n",
       "      <td>...</td>\n",
       "      <td>rogid:RA73eMbCn6F7MD0ItxF/V7QbjqM9606</td>\n",
       "      <td>rogid:vrgVrVoYr45cUe4X6L/zBAE1RtU9606</td>\n",
       "      <td>intact-crc:3B294E9363BBEBF0|rigid:n+UcEH4PPLkF...</td>\n",
       "      <td>False</td>\n",
       "      <td>binding-associated region:1191-1206(MINT-8095927)</td>\n",
       "      <td>binding-associated region:620-695(MINT-8095931...</td>\n",
       "      <td>-</td>\n",
       "      <td>-</td>\n",
       "      <td>psi-mi:\"MI:0083\"(peptide synthesis)</td>\n",
       "      <td>psi-mi:\"MI:0411\"(enzyme linked immunosorbent a...</td>\n",
       "    </tr>\n",
       "    <tr>\n",
       "      <th>30</th>\n",
       "      <td>uniprotkb:P49418</td>\n",
       "      <td>uniprotkb:O43426</td>\n",
       "      <td>intact:EBI-7121510|intact:MINT-109264|uniprotk...</td>\n",
       "      <td>intact:EBI-2821539|uniprotkb:O43425|uniprotkb:...</td>\n",
       "      <td>psi-mi:amph_human(display_long)|uniprotkb:AMPH...</td>\n",
       "      <td>psi-mi:synj1_human(display_long)|uniprotkb:SYN...</td>\n",
       "      <td>psi-mi:\"MI:0081\"(peptide array)</td>\n",
       "      <td>Cestra et al. (1999)</td>\n",
       "      <td>pubmed:10542231|mint:MINT-5211933</td>\n",
       "      <td>taxid:9606(human)|taxid:9606(Homo sapiens)</td>\n",
       "      <td>...</td>\n",
       "      <td>rogid:vrgVrVoYr45cUe4X6L/zBAE1RtU9606</td>\n",
       "      <td>rogid:RA73eMbCn6F7MD0ItxF/V7QbjqM9606</td>\n",
       "      <td>intact-crc:17D53C44727F66B6|rigid:n+UcEH4PPLkF...</td>\n",
       "      <td>False</td>\n",
       "      <td>binding-associated region:620-695(MINT-8095970...</td>\n",
       "      <td>binding-associated region:1280-1295(MINT-8095964)</td>\n",
       "      <td>-</td>\n",
       "      <td>-</td>\n",
       "      <td>psi-mi:\"MI:0411\"(enzyme linked immunosorbent a...</td>\n",
       "      <td>psi-mi:\"MI:0083\"(peptide synthesis)</td>\n",
       "    </tr>\n",
       "    <tr>\n",
       "      <th>31</th>\n",
       "      <td>uniprotkb:O43426</td>\n",
       "      <td>uniprotkb:Q99961</td>\n",
       "      <td>intact:EBI-2821539|uniprotkb:O43425|uniprotkb:...</td>\n",
       "      <td>intact:EBI-697911|uniprotkb:M0QZV5|uniprotkb:Q...</td>\n",
       "      <td>psi-mi:synj1_human(display_long)|uniprotkb:SYN...</td>\n",
       "      <td>psi-mi:sh3g1_human(display_long)|uniprotkb:End...</td>\n",
       "      <td>psi-mi:\"MI:0081\"(peptide array)</td>\n",
       "      <td>Cestra et al. (1999)</td>\n",
       "      <td>pubmed:10542231|mint:MINT-5211933</td>\n",
       "      <td>taxid:9606(human)|taxid:9606(Homo sapiens)</td>\n",
       "      <td>...</td>\n",
       "      <td>rogid:RA73eMbCn6F7MD0ItxF/V7QbjqM9606</td>\n",
       "      <td>rogid:Qzz+R0MGXEpZ6G0xoPglUBKBIfk9606</td>\n",
       "      <td>intact-crc:0308D6DE536C0DF4|rigid:fxkuzNe+wQW8...</td>\n",
       "      <td>False</td>\n",
       "      <td>binding-associated region:1060-1076(MINT-8096050)</td>\n",
       "      <td>glutathione s tranferase tag:?-?(MINT-8096039)...</td>\n",
       "      <td>-</td>\n",
       "      <td>-</td>\n",
       "      <td>psi-mi:\"MI:0083\"(peptide synthesis)</td>\n",
       "      <td>psi-mi:\"MI:0411\"(enzyme linked immunosorbent a...</td>\n",
       "    </tr>\n",
       "  </tbody>\n",
       "</table>\n",
       "<p>5 rows × 42 columns</p>\n",
       "</div>"
      ],
      "text/plain": [
       "   #ID(s) interactor A ID(s) interactor B  \\\n",
       "0     uniprotkb:O43426   uniprotkb:P49418   \n",
       "28    uniprotkb:P49418   uniprotkb:O43426   \n",
       "29    uniprotkb:O43426   uniprotkb:P49418   \n",
       "30    uniprotkb:P49418   uniprotkb:O43426   \n",
       "31    uniprotkb:O43426   uniprotkb:Q99961   \n",
       "\n",
       "                              Alt. ID(s) interactor A  \\\n",
       "0   intact:EBI-2821539|uniprotkb:O43425|uniprotkb:...   \n",
       "28  intact:EBI-7121510|intact:MINT-109264|uniprotk...   \n",
       "29  intact:EBI-2821539|uniprotkb:O43425|uniprotkb:...   \n",
       "30  intact:EBI-7121510|intact:MINT-109264|uniprotk...   \n",
       "31  intact:EBI-2821539|uniprotkb:O43425|uniprotkb:...   \n",
       "\n",
       "                              Alt. ID(s) interactor B  \\\n",
       "0   intact:EBI-7121510|intact:MINT-109264|uniprotk...   \n",
       "28  intact:EBI-2821539|uniprotkb:O43425|uniprotkb:...   \n",
       "29  intact:EBI-7121510|intact:MINT-109264|uniprotk...   \n",
       "30  intact:EBI-2821539|uniprotkb:O43425|uniprotkb:...   \n",
       "31  intact:EBI-697911|uniprotkb:M0QZV5|uniprotkb:Q...   \n",
       "\n",
       "                               Alias(es) interactor A  \\\n",
       "0   psi-mi:synj1_human(display_long)|uniprotkb:SYN...   \n",
       "28  psi-mi:amph_human(display_long)|uniprotkb:AMPH...   \n",
       "29  psi-mi:synj1_human(display_long)|uniprotkb:SYN...   \n",
       "30  psi-mi:amph_human(display_long)|uniprotkb:AMPH...   \n",
       "31  psi-mi:synj1_human(display_long)|uniprotkb:SYN...   \n",
       "\n",
       "                               Alias(es) interactor B  \\\n",
       "0   psi-mi:amph_human(display_long)|uniprotkb:AMPH...   \n",
       "28  psi-mi:synj1_human(display_long)|uniprotkb:SYN...   \n",
       "29  psi-mi:amph_human(display_long)|uniprotkb:AMPH...   \n",
       "30  psi-mi:synj1_human(display_long)|uniprotkb:SYN...   \n",
       "31  psi-mi:sh3g1_human(display_long)|uniprotkb:End...   \n",
       "\n",
       "    Interaction detection method(s) Publication 1st author(s)  \\\n",
       "0   psi-mi:\"MI:0084\"(phage display)      Cestra et al. (1999)   \n",
       "28  psi-mi:\"MI:0081\"(peptide array)      Cestra et al. (1999)   \n",
       "29  psi-mi:\"MI:0081\"(peptide array)      Cestra et al. (1999)   \n",
       "30  psi-mi:\"MI:0081\"(peptide array)      Cestra et al. (1999)   \n",
       "31  psi-mi:\"MI:0081\"(peptide array)      Cestra et al. (1999)   \n",
       "\n",
       "            Publication Identifier(s)  \\\n",
       "0   pubmed:10542231|mint:MINT-5211933   \n",
       "28  pubmed:10542231|mint:MINT-5211933   \n",
       "29  pubmed:10542231|mint:MINT-5211933   \n",
       "30  pubmed:10542231|mint:MINT-5211933   \n",
       "31  pubmed:10542231|mint:MINT-5211933   \n",
       "\n",
       "                            Taxid interactor A  ...  \\\n",
       "0   taxid:9606(human)|taxid:9606(Homo sapiens)  ...   \n",
       "28  taxid:9606(human)|taxid:9606(Homo sapiens)  ...   \n",
       "29  taxid:9606(human)|taxid:9606(Homo sapiens)  ...   \n",
       "30  taxid:9606(human)|taxid:9606(Homo sapiens)  ...   \n",
       "31  taxid:9606(human)|taxid:9606(Homo sapiens)  ...   \n",
       "\n",
       "                 Checksum(s) interactor A  \\\n",
       "0   rogid:RA73eMbCn6F7MD0ItxF/V7QbjqM9606   \n",
       "28  rogid:vrgVrVoYr45cUe4X6L/zBAE1RtU9606   \n",
       "29  rogid:RA73eMbCn6F7MD0ItxF/V7QbjqM9606   \n",
       "30  rogid:vrgVrVoYr45cUe4X6L/zBAE1RtU9606   \n",
       "31  rogid:RA73eMbCn6F7MD0ItxF/V7QbjqM9606   \n",
       "\n",
       "                 Checksum(s) interactor B  \\\n",
       "0   rogid:vrgVrVoYr45cUe4X6L/zBAE1RtU9606   \n",
       "28  rogid:RA73eMbCn6F7MD0ItxF/V7QbjqM9606   \n",
       "29  rogid:vrgVrVoYr45cUe4X6L/zBAE1RtU9606   \n",
       "30  rogid:RA73eMbCn6F7MD0ItxF/V7QbjqM9606   \n",
       "31  rogid:Qzz+R0MGXEpZ6G0xoPglUBKBIfk9606   \n",
       "\n",
       "                              Interaction Checksum(s) Negative  \\\n",
       "0   intact-crc:F4234557A3B54840|rigid:n+UcEH4PPLkF...    False   \n",
       "28  intact-crc:1B3C495D257C1999|rigid:n+UcEH4PPLkF...    False   \n",
       "29  intact-crc:3B294E9363BBEBF0|rigid:n+UcEH4PPLkF...    False   \n",
       "30  intact-crc:17D53C44727F66B6|rigid:n+UcEH4PPLkF...    False   \n",
       "31  intact-crc:0308D6DE536C0DF4|rigid:fxkuzNe+wQW8...    False   \n",
       "\n",
       "                              Feature(s) interactor A  \\\n",
       "0    binding-associated region:1063-1070(MINT-376288)   \n",
       "28  glutathione s tranferase tag:?-?(MINT-8095915)...   \n",
       "29  binding-associated region:1191-1206(MINT-8095927)   \n",
       "30  binding-associated region:620-695(MINT-8095970...   \n",
       "31  binding-associated region:1060-1076(MINT-8096050)   \n",
       "\n",
       "                              Feature(s) interactor B  \\\n",
       "0      binding-associated region:626-695(MINT-376295)   \n",
       "28  binding-associated region:1060-1076(MINT-8095871)   \n",
       "29  binding-associated region:620-695(MINT-8095931...   \n",
       "30  binding-associated region:1280-1295(MINT-8095964)   \n",
       "31  glutathione s tranferase tag:?-?(MINT-8096039)...   \n",
       "\n",
       "   Stoichiometry(s) interactor A Stoichiometry(s) interactor B  \\\n",
       "0                              -                             -   \n",
       "28                             -                             -   \n",
       "29                             -                             -   \n",
       "30                             -                             -   \n",
       "31                             -                             -   \n",
       "\n",
       "                  Identification method participant A  \\\n",
       "0   psi-mi:\"MI:0078\"(nucleotide sequence identific...   \n",
       "28  psi-mi:\"MI:0411\"(enzyme linked immunosorbent a...   \n",
       "29                psi-mi:\"MI:0083\"(peptide synthesis)   \n",
       "30  psi-mi:\"MI:0411\"(enzyme linked immunosorbent a...   \n",
       "31                psi-mi:\"MI:0083\"(peptide synthesis)   \n",
       "\n",
       "                  Identification method participant B  \n",
       "0   psi-mi:\"MI:0078\"(nucleotide sequence identific...  \n",
       "28                psi-mi:\"MI:0083\"(peptide synthesis)  \n",
       "29  psi-mi:\"MI:0411\"(enzyme linked immunosorbent a...  \n",
       "30                psi-mi:\"MI:0083\"(peptide synthesis)  \n",
       "31  psi-mi:\"MI:0411\"(enzyme linked immunosorbent a...  \n",
       "\n",
       "[5 rows x 42 columns]"
      ]
     },
     "execution_count": 9,
     "metadata": {},
     "output_type": "execute_result"
    }
   ],
   "source": [
    "intact_df_homo_sapiens = intact_df.iloc[np.logical_and(idx_a.values, idx_b.values), :]\n",
    "intact_df_homo_sapiens.head()"
   ]
  },
  {
   "cell_type": "code",
   "execution_count": 10,
   "id": "09bdad43-000b-4e6b-9181-171e177a4d57",
   "metadata": {},
   "outputs": [
    {
     "data": {
      "text/plain": [
       "(922560, 42)"
      ]
     },
     "execution_count": 10,
     "metadata": {},
     "output_type": "execute_result"
    }
   ],
   "source": [
    "intact_df_homo_sapiens.shape"
   ]
  },
  {
   "cell_type": "code",
   "execution_count": 11,
   "id": "8b460619-126b-49f0-a7ba-df2c775b5cc0",
   "metadata": {},
   "outputs": [],
   "source": [
    "def extract_gene_name(x):\n",
    "    match = re.search(\"(?<=uniprotkb:)[A-Z0-9]+(?=\\(gene name\\))\", x)\n",
    "    # return match\n",
    "    # print(match)\n",
    "    if match:\n",
    "        result = match.group(0)\n",
    "    else:\n",
    "        result = \"\"\n",
    "    return result"
   ]
  },
  {
   "cell_type": "code",
   "execution_count": 12,
   "id": "4c2cb23e-cfde-4317-84d1-509f0dd4a7ea",
   "metadata": {},
   "outputs": [],
   "source": [
    "interactor_A_aliases = intact_df_homo_sapiens['Alias(es) interactor A'].values\n",
    "interactor_A_gene = [extract_gene_name(x) for x in interactor_A_aliases]\n",
    "interactor_B_aliases = intact_df_homo_sapiens['Alias(es) interactor B'].values\n",
    "interactor_B_gene = [extract_gene_name(x) for x in interactor_B_aliases]"
   ]
  },
  {
   "cell_type": "code",
   "execution_count": 13,
   "id": "b3b958cf-438a-4498-85c5-df19d7c2ad18",
   "metadata": {},
   "outputs": [
    {
     "data": {
      "text/plain": [
       "array(['psi-mi:synj1_human(display_long)|uniprotkb:SYNJ1(gene name)|psi-mi:SYNJ1(display_short)|uniprotkb:KIAA0910(gene name synonym)|uniprotkb:Synaptic inositol 1,4,5-trisphosphate 5-phosphatase 1(gene name synonym)',\n",
       "       'psi-mi:amph_human(display_long)|uniprotkb:AMPH(gene name)|psi-mi:AMPH(display_short)|uniprotkb:AMPH1(gene name synonym)',\n",
       "       'psi-mi:synj1_human(display_long)|uniprotkb:SYNJ1(gene name)|psi-mi:SYNJ1(display_short)|uniprotkb:KIAA0910(gene name synonym)|uniprotkb:Synaptic inositol 1,4,5-trisphosphate 5-phosphatase 1(gene name synonym)',\n",
       "       ...,\n",
       "       'psi-mi:klk10_human(display_long)|uniprotkb:Protease serine-like 1(gene name synonym)|uniprotkb:Normal epithelial cell-specific 1(gene name synonym)|uniprotkb:KLK10(gene name)|psi-mi:KLK10(display_short)|uniprotkb:NES1(gene name synonym)|uniprotkb:PRSSL1(gene name synonym)',\n",
       "       'psi-mi:hsa-mir-142-5p(display_short)|psi-mi:EBI-25682788(display_long)',\n",
       "       'psi-mi:hsa-mir-106b-5p(display_short)|psi-mi:EBI-21019556(display_long)'],\n",
       "      dtype=object)"
      ]
     },
     "execution_count": 13,
     "metadata": {},
     "output_type": "execute_result"
    }
   ],
   "source": [
    "interactor_A_aliases"
   ]
  },
  {
   "cell_type": "code",
   "execution_count": 14,
   "id": "3401f75a-0252-4629-9d18-3c813ec625f0",
   "metadata": {},
   "outputs": [
    {
     "name": "stderr",
     "output_type": "stream",
     "text": [
      "/home/whitleyo/miniforge3/envs/pytorch3drugcell/lib/python3.7/site-packages/ipykernel_launcher.py:1: SettingWithCopyWarning: \n",
      "A value is trying to be set on a copy of a slice from a DataFrame.\n",
      "Try using .loc[row_indexer,col_indexer] = value instead\n",
      "\n",
      "See the caveats in the documentation: https://pandas.pydata.org/pandas-docs/stable/user_guide/indexing.html#returning-a-view-versus-a-copy\n",
      "  \"\"\"Entry point for launching an IPython kernel.\n",
      "/home/whitleyo/miniforge3/envs/pytorch3drugcell/lib/python3.7/site-packages/ipykernel_launcher.py:2: SettingWithCopyWarning: \n",
      "A value is trying to be set on a copy of a slice from a DataFrame.\n",
      "Try using .loc[row_indexer,col_indexer] = value instead\n",
      "\n",
      "See the caveats in the documentation: https://pandas.pydata.org/pandas-docs/stable/user_guide/indexing.html#returning-a-view-versus-a-copy\n",
      "  \n"
     ]
    }
   ],
   "source": [
    "intact_df_homo_sapiens['gene_A'] = interactor_A_gene\n",
    "intact_df_homo_sapiens['gene_B'] = interactor_B_gene"
   ]
  },
  {
   "cell_type": "code",
   "execution_count": 15,
   "id": "403099b3-3952-4726-843e-adda98de537c",
   "metadata": {},
   "outputs": [],
   "source": [
    "# del idx_A\n",
    "# del idx_B\n",
    "idx_A = np.logical_not(intact_df_homo_sapiens['gene_A'].values == '')\n",
    "idx_B = np.logical_not(intact_df_homo_sapiens['gene_B'].values == '')\n",
    "intact_df_homo_sapiens = intact_df_homo_sapiens.iloc[np.logical_and(idx_A, idx_B), :]"
   ]
  },
  {
   "cell_type": "code",
   "execution_count": 16,
   "id": "92ccdee1-0cfe-46c7-8093-23899fc76305",
   "metadata": {},
   "outputs": [
    {
     "data": {
      "text/plain": [
       "psi-mi:\"MI:0914\"(association)                                           442863\n",
       "psi-mi:\"MI:0915\"(physical association)                                  327728\n",
       "psi-mi:\"MI:2364\"(proximity)                                              51084\n",
       "psi-mi:\"MI:0407\"(direct interaction)                                     15959\n",
       "psi-mi:\"MI:0403\"(colocalization)                                          3803\n",
       "psi-mi:\"MI:0217\"(phosphorylation reaction)                                1937\n",
       "psi-mi:\"MI:0220\"(ubiquitination reaction)                                  401\n",
       "psi-mi:\"MI:0203\"(dephosphorylation reaction)                               362\n",
       "psi-mi:\"MI:0570\"(protein cleavage)                                         228\n",
       "psi-mi:\"MI:0194\"(cleavage reaction)                                        160\n",
       "psi-mi:\"MI:0213\"(methylation reaction)                                      73\n",
       "psi-mi:\"MI:0557\"(adp ribosylation reaction)                                 58\n",
       "psi-mi:\"MI:0414\"(enzymatic reaction)                                        47\n",
       "psi-mi:\"MI:0192\"(acetylation reaction)                                      42\n",
       "psi-mi:\"MI:0195\"(covalent binding)                                          37\n",
       "psi-mi:\"MI:0408\"(disulfide bond)                                            36\n",
       "psi-mi:\"MI:0210\"(hydroxylation reaction)                                    30\n",
       "psi-mi:\"MI:0197\"(deacetylation reaction)                                    28\n",
       "psi-mi:\"MI:0566\"(sumoylation reaction)                                      23\n",
       "psi-mi:\"MI:0567\"(neddylation reaction)                                      18\n",
       "psi-mi:\"MI:1127\"(putative self interaction)                                 14\n",
       "psi-mi:\"MI:0871\"(demethylation reaction)                                    14\n",
       "psi-mi:\"MI:0945\"(oxidoreductase activity electron transfer reaction)        13\n",
       "psi-mi:\"MI:0204\"(deubiquitination reaction)                                 13\n",
       "psi-mi:\"MI:0902\"(rna cleavage)                                               9\n",
       "psi-mi:\"MI:1126\"(self interaction)                                           9\n",
       "psi-mi:\"MI:0559\"(glycosylation reaction)                                     7\n",
       "psi-mi:\"MI:0216\"(palmitoylation reaction)                                    5\n",
       "psi-mi:\"MI:1148\"(ampylation reaction)                                        4\n",
       "psi-mi:\"MI:0211\"(lipid addition)                                             4\n",
       "psi-mi:\"MI:0214\"(myristoylation reaction)                                    4\n",
       "psi-mi:\"MI:0212\"(lipoprotein cleavage reaction)                              3\n",
       "psi-mi:\"MI:0844\"(phosphotransfer reaction)                                   3\n",
       "psi-mi:\"MI:0572\"(dna cleavage)                                               3\n",
       "psi-mi:\"MI:0883\"(gtpase reaction)                                            3\n",
       "psi-mi:\"MI:0556\"(transglutamination reaction)                                2\n",
       "psi-mi:\"MI:2252\"(guanine nucleotide exchange factor reaction)                2\n",
       "psi-mi:\"MI:0569\"(deneddylation reaction)                                     1\n",
       "psi-mi:\"MI:0882\"(atpase reaction)                                            1\n",
       "psi-mi:\"MI:1237\"(proline isomerization  reaction)                            1\n",
       "psi-mi:\"MI:1310\"(de-ADP-ribosylation reaction)                               1\n",
       "Name: Interaction type(s), dtype: int64"
      ]
     },
     "execution_count": 16,
     "metadata": {},
     "output_type": "execute_result"
    }
   ],
   "source": [
    "# let's subset for physical association or direct interaction\n",
    "intact_df_homo_sapiens['Interaction type(s)'].value_counts()"
   ]
  },
  {
   "cell_type": "code",
   "execution_count": 17,
   "id": "9c27548e-8e3d-4fcc-a5ce-df014e9738c6",
   "metadata": {},
   "outputs": [],
   "source": [
    "accepted_interaction_types = ['psi-mi:\"MI:0915\"(physical association)', 'psi-mi:\"MI:0407\"(direct interaction)']\n",
    "intact_df_homo_sapiens = intact_df_homo_sapiens.iloc[np.in1d(intact_df_homo_sapiens['Interaction type(s)'].values, accepted_interaction_types), :]"
   ]
  },
  {
   "cell_type": "code",
   "execution_count": 18,
   "id": "be647090-5a6c-44a0-8886-7ec3d4ed86ec",
   "metadata": {},
   "outputs": [
    {
     "data": {
      "text/plain": [
       "psi-mi:\"MI:0915\"(physical association)    327728\n",
       "psi-mi:\"MI:0407\"(direct interaction)       15959\n",
       "Name: Interaction type(s), dtype: int64"
      ]
     },
     "execution_count": 18,
     "metadata": {},
     "output_type": "execute_result"
    }
   ],
   "source": [
    "intact_df_homo_sapiens['Interaction type(s)'].value_counts()"
   ]
  },
  {
   "cell_type": "markdown",
   "id": "dafb826a-dbae-4d54-af28-a96d6f0f21fa",
   "metadata": {},
   "source": [
    "## Convert to Interaction Matrix"
   ]
  },
  {
   "cell_type": "code",
   "execution_count": 19,
   "id": "881a2adf-1041-4fae-8571-8cecd5a3c41f",
   "metadata": {},
   "outputs": [
    {
     "data": {
      "text/plain": [
       "166305"
      ]
     },
     "execution_count": 19,
     "metadata": {},
     "output_type": "execute_result"
    }
   ],
   "source": [
    "np.sum(intact_df_homo_sapiens.loc[:, ['gene_A', 'gene_B']].duplicated())"
   ]
  },
  {
   "cell_type": "code",
   "execution_count": 20,
   "id": "82bec54e-041e-4de5-b771-879a7ff93400",
   "metadata": {},
   "outputs": [
    {
     "data": {
      "text/html": [
       "<div>\n",
       "<style scoped>\n",
       "    .dataframe tbody tr th:only-of-type {\n",
       "        vertical-align: middle;\n",
       "    }\n",
       "\n",
       "    .dataframe tbody tr th {\n",
       "        vertical-align: top;\n",
       "    }\n",
       "\n",
       "    .dataframe thead th {\n",
       "        text-align: right;\n",
       "    }\n",
       "</style>\n",
       "<table border=\"1\" class=\"dataframe\">\n",
       "  <thead>\n",
       "    <tr style=\"text-align: right;\">\n",
       "      <th></th>\n",
       "      <th>gene_A</th>\n",
       "      <th>gene_B</th>\n",
       "    </tr>\n",
       "  </thead>\n",
       "  <tbody>\n",
       "    <tr>\n",
       "      <th>0</th>\n",
       "      <td>SYNJ1</td>\n",
       "      <td>AMPH</td>\n",
       "    </tr>\n",
       "    <tr>\n",
       "      <th>28</th>\n",
       "      <td>AMPH</td>\n",
       "      <td>SYNJ1</td>\n",
       "    </tr>\n",
       "    <tr>\n",
       "      <th>29</th>\n",
       "      <td>SYNJ1</td>\n",
       "      <td>AMPH</td>\n",
       "    </tr>\n",
       "    <tr>\n",
       "      <th>30</th>\n",
       "      <td>AMPH</td>\n",
       "      <td>SYNJ1</td>\n",
       "    </tr>\n",
       "    <tr>\n",
       "      <th>31</th>\n",
       "      <td>SYNJ1</td>\n",
       "      <td>SH3GL1</td>\n",
       "    </tr>\n",
       "    <tr>\n",
       "      <th>...</th>\n",
       "      <td>...</td>\n",
       "      <td>...</td>\n",
       "    </tr>\n",
       "    <tr>\n",
       "      <th>1554581</th>\n",
       "      <td>CIB1</td>\n",
       "      <td>STMN2</td>\n",
       "    </tr>\n",
       "    <tr>\n",
       "      <th>1554582</th>\n",
       "      <td>STMN2</td>\n",
       "      <td>CIB1</td>\n",
       "    </tr>\n",
       "    <tr>\n",
       "      <th>1572085</th>\n",
       "      <td>RELA</td>\n",
       "      <td>MIR338</td>\n",
       "    </tr>\n",
       "    <tr>\n",
       "      <th>1572089</th>\n",
       "      <td>CLDN2</td>\n",
       "      <td>SQSTM1</td>\n",
       "    </tr>\n",
       "    <tr>\n",
       "      <th>1572090</th>\n",
       "      <td>CLDN2</td>\n",
       "      <td>SQSTM1</td>\n",
       "    </tr>\n",
       "  </tbody>\n",
       "</table>\n",
       "<p>343687 rows × 2 columns</p>\n",
       "</div>"
      ],
      "text/plain": [
       "        gene_A  gene_B\n",
       "0        SYNJ1    AMPH\n",
       "28        AMPH   SYNJ1\n",
       "29       SYNJ1    AMPH\n",
       "30        AMPH   SYNJ1\n",
       "31       SYNJ1  SH3GL1\n",
       "...        ...     ...\n",
       "1554581   CIB1   STMN2\n",
       "1554582  STMN2    CIB1\n",
       "1572085   RELA  MIR338\n",
       "1572089  CLDN2  SQSTM1\n",
       "1572090  CLDN2  SQSTM1\n",
       "\n",
       "[343687 rows x 2 columns]"
      ]
     },
     "execution_count": 20,
     "metadata": {},
     "output_type": "execute_result"
    }
   ],
   "source": [
    "intact_df_homo_sapiens.loc[:, ['gene_A', 'gene_B']]"
   ]
  },
  {
   "cell_type": "code",
   "execution_count": 21,
   "id": "bdcce9d0-d478-4ab4-9372-bdbe3d5c5e41",
   "metadata": {},
   "outputs": [
    {
     "data": {
      "text/plain": [
       "166305"
      ]
     },
     "execution_count": 21,
     "metadata": {},
     "output_type": "execute_result"
    }
   ],
   "source": [
    "dup_idx = intact_df_homo_sapiens.loc[:, ['gene_A', 'gene_B']].duplicated().values\n",
    "sum(dup_idx)"
   ]
  },
  {
   "cell_type": "code",
   "execution_count": 22,
   "id": "0fc6bb68-1e50-4e4c-bcf1-8ffe85628489",
   "metadata": {},
   "outputs": [
    {
     "data": {
      "text/plain": [
       "(177382, 44)"
      ]
     },
     "execution_count": 22,
     "metadata": {},
     "output_type": "execute_result"
    }
   ],
   "source": [
    "# remove 166k duplicate interactions\n",
    "intact_df_homo_sapiens = intact_df_homo_sapiens.iloc[np.logical_not(dup_idx), :]\n",
    "intact_df_homo_sapiens.shape"
   ]
  },
  {
   "cell_type": "code",
   "execution_count": 23,
   "id": "29a4e964-0709-4810-a3ee-5c7368532fb4",
   "metadata": {},
   "outputs": [
    {
     "data": {
      "text/plain": [
       "16015"
      ]
     },
     "execution_count": 23,
     "metadata": {},
     "output_type": "execute_result"
    }
   ],
   "source": [
    "# 16k interactors\n",
    "len(np.unique(np.concatenate([intact_df_homo_sapiens['gene_A'].values, intact_df_homo_sapiens['gene_B'].values], axis = 0).astype('str')))"
   ]
  },
  {
   "cell_type": "code",
   "execution_count": 24,
   "id": "898fbb6b-86de-4386-a274-a4f426466f12",
   "metadata": {},
   "outputs": [],
   "source": [
    "G = nx.Graph()\n",
    "for i in range(intact_df_homo_sapiens.shape[0]):\n",
    "    G.add_edge(intact_df_homo_sapiens['gene_A'].values[i], intact_df_homo_sapiens['gene_B'].values[i])"
   ]
  },
  {
   "cell_type": "code",
   "execution_count": 25,
   "id": "8bb5bb1b-2943-41c0-90c9-df5afaab83b7",
   "metadata": {},
   "outputs": [],
   "source": [
    "A = nx.adjacency_matrix(G).todense()"
   ]
  },
  {
   "cell_type": "code",
   "execution_count": 26,
   "id": "18c4edb5-e22c-452d-86cb-41db82ea7e55",
   "metadata": {},
   "outputs": [
    {
     "data": {
      "text/plain": [
       "array([0., 0., 0., 0., 1.])"
      ]
     },
     "execution_count": 26,
     "metadata": {},
     "output_type": "execute_result"
    }
   ],
   "source": [
    "np.quantile(A.flatten(), [0, 0.25, 0.5, 0.75, 1.0])"
   ]
  },
  {
   "cell_type": "code",
   "execution_count": 27,
   "id": "d52f887e-6b3e-4b1b-831f-cfd2b0bb4ab3",
   "metadata": {},
   "outputs": [
    {
     "data": {
      "text/plain": [
       "<matplotlib.axes._subplots.AxesSubplot at 0x7f7e229cc450>"
      ]
     },
     "execution_count": 27,
     "metadata": {},
     "output_type": "execute_result"
    },
    {
     "data": {
      "image/png": "[encoded data removed]",
      "text/plain": [
       "<Figure size 640x480 with 1 Axes>"
      ]
     },
     "metadata": {},
     "output_type": "display_data"
    }
   ],
   "source": [
    "# show histogram of number of interactors\n",
    "rand_idx = np.random.choice(np.arange(A.shape[0]), size=1000, replace=False)\n",
    "sns.histplot(A.sum(axis=1)[rand_idx])"
   ]
  },
  {
   "cell_type": "code",
   "execution_count": 28,
   "id": "5a1ac240-bff8-41f9-8e34-521621978e9d",
   "metadata": {},
   "outputs": [],
   "source": [
    "A_df = pd.DataFrame(A, index=list(G.nodes()), columns=list(G.nodes()))"
   ]
  },
  {
   "cell_type": "markdown",
   "id": "ee0f558c-ed1e-4bca-a9ab-00efb898837c",
   "metadata": {},
   "source": [
    "## Save Results"
   ]
  },
  {
   "cell_type": "code",
   "execution_count": 29,
   "id": "479b00eb-ac27-48c4-821f-30c91aba2dcd",
   "metadata": {},
   "outputs": [],
   "source": [
    "out_file = os.path.join(output_dir, 'A.csv')\n",
    "A_df.to_csv(out_file, index=True)"
   ]
  },
  {
   "cell_type": "code",
   "execution_count": null,
   "id": "e0a9db31-453c-40d3-aac3-605217260ff0",
   "metadata": {},
   "outputs": [],
   "source": []
  }
 ],
 "metadata": {
  "kernelspec": {
   "display_name": "pytorch3drugcell",
   "language": "python",
   "name": "pytorch3drugcell"
  },
  "language_info": {
   "codemirror_mode": {
    "name": "ipython",
    "version": 3
   },
   "file_extension": ".py",
   "mimetype": "text/x-python",
   "name": "python",
   "nbconvert_exporter": "python",
   "pygments_lexer": "ipython3",
   "version": "3.7.4"
  }
 },
 "nbformat": 4,
 "nbformat_minor": 5
}
